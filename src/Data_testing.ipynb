{
 "cells": [
  {
   "cell_type": "code",
   "execution_count": 1,
   "id": "1f97d2ab",
   "metadata": {},
   "outputs": [
    {
     "name": "stdout",
     "output_type": "stream",
     "text": [
      "WARNING:tensorflow:From c:\\Users\\jason\\anaconda3\\envs\\dev\\lib\\site-packages\\tf_keras\\src\\losses.py:2976: The name tf.losses.sparse_softmax_cross_entropy is deprecated. Please use tf.compat.v1.losses.sparse_softmax_cross_entropy instead.\n",
      "\n"
     ]
    }
   ],
   "source": [
    "from main import DataImporter\n",
    "from models.modelhelper import ModelHelper\n",
    "import numpy as np\n",
    "\n",
    "data_importer = DataImporter()\n",
    "data_importer.import_data()\n",
    "\n",
    "ds_train = data_importer.get_train_data()\n",
    "ds_test = data_importer.get_test_data()\n",
    "ds_validation = data_importer.get_validation_data()"
   ]
  },
  {
   "cell_type": "code",
   "execution_count": 2,
   "id": "bb019e47",
   "metadata": {},
   "outputs": [
    {
     "name": "stdout",
     "output_type": "stream",
     "text": [
      "<class 'pandas.core.frame.DataFrame'>\n",
      "RangeIndex: 10269 entries, 0 to 10268\n",
      "Data columns (total 14 columns):\n",
      " #   Column                Non-Null Count  Dtype  \n",
      "---  ------                --------------  -----  \n",
      " 0   id                    10269 non-null  object \n",
      " 1   label                 10269 non-null  int64  \n",
      " 2   statement             10269 non-null  object \n",
      " 3   subject               10269 non-null  object \n",
      " 4   speaker               10269 non-null  object \n",
      " 5   job_title             10269 non-null  object \n",
      " 6   state_info            10269 non-null  object \n",
      " 7   party_affiliation     10269 non-null  object \n",
      " 8   barely_true_counts    10269 non-null  float32\n",
      " 9   false_counts          10269 non-null  float32\n",
      " 10  half_true_counts      10269 non-null  float32\n",
      " 11  mostly_true_counts    10269 non-null  float32\n",
      " 12  pants_on_fire_counts  10269 non-null  float32\n",
      " 13  context               10269 non-null  object \n",
      "dtypes: float32(5), int64(1), object(8)\n",
      "memory usage: 922.7+ KB\n",
      "\n",
      "\n",
      "<class 'pandas.core.frame.DataFrame'>\n",
      "RangeIndex: 1283 entries, 0 to 1282\n",
      "Data columns (total 14 columns):\n",
      " #   Column                Non-Null Count  Dtype  \n",
      "---  ------                --------------  -----  \n",
      " 0   id                    1283 non-null   object \n",
      " 1   label                 1283 non-null   int64  \n",
      " 2   statement             1283 non-null   object \n",
      " 3   subject               1283 non-null   object \n",
      " 4   speaker               1283 non-null   object \n",
      " 5   job_title             1283 non-null   object \n",
      " 6   state_info            1283 non-null   object \n",
      " 7   party_affiliation     1283 non-null   object \n",
      " 8   barely_true_counts    1283 non-null   float32\n",
      " 9   false_counts          1283 non-null   float32\n",
      " 10  half_true_counts      1283 non-null   float32\n",
      " 11  mostly_true_counts    1283 non-null   float32\n",
      " 12  pants_on_fire_counts  1283 non-null   float32\n",
      " 13  context               1283 non-null   object \n",
      "dtypes: float32(5), int64(1), object(8)\n",
      "memory usage: 115.4+ KB\n",
      "\n",
      "\n",
      "<class 'pandas.core.frame.DataFrame'>\n",
      "RangeIndex: 1284 entries, 0 to 1283\n",
      "Data columns (total 14 columns):\n",
      " #   Column                Non-Null Count  Dtype  \n",
      "---  ------                --------------  -----  \n",
      " 0   id                    1284 non-null   object \n",
      " 1   label                 1284 non-null   int64  \n",
      " 2   statement             1284 non-null   object \n",
      " 3   subject               1284 non-null   object \n",
      " 4   speaker               1284 non-null   object \n",
      " 5   job_title             1284 non-null   object \n",
      " 6   state_info            1284 non-null   object \n",
      " 7   party_affiliation     1284 non-null   object \n",
      " 8   barely_true_counts    1284 non-null   float32\n",
      " 9   false_counts          1284 non-null   float32\n",
      " 10  half_true_counts      1284 non-null   float32\n",
      " 11  mostly_true_counts    1284 non-null   float32\n",
      " 12  pants_on_fire_counts  1284 non-null   float32\n",
      " 13  context               1284 non-null   object \n",
      "dtypes: float32(5), int64(1), object(8)\n",
      "memory usage: 115.5+ KB\n",
      "\n",
      "\n"
     ]
    }
   ],
   "source": [
    "ds_train.info()\n",
    "print('\\n')\n",
    "ds_test.info()\n",
    "print('\\n')\n",
    "ds_validation.info()\n",
    "print('\\n')"
   ]
  },
  {
   "cell_type": "code",
   "execution_count": 3,
   "id": "494a3968",
   "metadata": {},
   "outputs": [
    {
     "name": "stdout",
     "output_type": "stream",
     "text": [
      "Training Dataset:\n"
     ]
    },
    {
     "data": {
      "application/vnd.microsoft.datawrangler.viewer.v0+json": {
       "columns": [
        {
         "name": "index",
         "rawType": "int64",
         "type": "integer"
        },
        {
         "name": "label",
         "rawType": "int64",
         "type": "integer"
        },
        {
         "name": "statement",
         "rawType": "object",
         "type": "string"
        },
        {
         "name": "barely_true_counts",
         "rawType": "float32",
         "type": "float"
        },
        {
         "name": "false_counts",
         "rawType": "float32",
         "type": "float"
        },
        {
         "name": "half_true_counts",
         "rawType": "float32",
         "type": "float"
        },
        {
         "name": "mostly_true_counts",
         "rawType": "float32",
         "type": "float"
        },
        {
         "name": "pants_on_fire_counts",
         "rawType": "float32",
         "type": "float"
        }
       ],
       "conversionMethod": "pd.DataFrame",
       "ref": "e665c194-967f-435b-a2af-2227580a0293",
       "rows": [
        [
         "0",
         "0",
         "Says the Annies List political group supports third-trimester abortions on demand.",
         "0.0",
         "1.0",
         "0.0",
         "0.0",
         "0.0"
        ],
        [
         "1",
         "1",
         "When did the decline of coal start? It started when natural gas took off that started to begin in (President George W.) Bushs administration.",
         "0.0",
         "0.0",
         "1.0",
         "1.0",
         "0.0"
        ],
        [
         "2",
         "2",
         "Hillary Clinton agrees with John McCain \"by voting to give George Bush the benefit of the doubt on Iran.\"",
         "70.0",
         "71.0",
         "160.0",
         "163.0",
         "9.0"
        ],
        [
         "3",
         "0",
         "Health care reform legislation is likely to mandate free sex change surgeries.",
         "7.0",
         "19.0",
         "3.0",
         "5.0",
         "44.0"
        ],
        [
         "4",
         "1",
         "The economic turnaround started at the end of my term.",
         "15.0",
         "9.0",
         "20.0",
         "19.0",
         "2.0"
        ]
       ],
       "shape": {
        "columns": 7,
        "rows": 5
       }
      },
      "text/html": [
       "<div>\n",
       "<style scoped>\n",
       "    .dataframe tbody tr th:only-of-type {\n",
       "        vertical-align: middle;\n",
       "    }\n",
       "\n",
       "    .dataframe tbody tr th {\n",
       "        vertical-align: top;\n",
       "    }\n",
       "\n",
       "    .dataframe thead th {\n",
       "        text-align: right;\n",
       "    }\n",
       "</style>\n",
       "<table border=\"1\" class=\"dataframe\">\n",
       "  <thead>\n",
       "    <tr style=\"text-align: right;\">\n",
       "      <th></th>\n",
       "      <th>label</th>\n",
       "      <th>statement</th>\n",
       "      <th>barely_true_counts</th>\n",
       "      <th>false_counts</th>\n",
       "      <th>half_true_counts</th>\n",
       "      <th>mostly_true_counts</th>\n",
       "      <th>pants_on_fire_counts</th>\n",
       "    </tr>\n",
       "  </thead>\n",
       "  <tbody>\n",
       "    <tr>\n",
       "      <th>0</th>\n",
       "      <td>0</td>\n",
       "      <td>Says the Annies List political group supports ...</td>\n",
       "      <td>0.0</td>\n",
       "      <td>1.0</td>\n",
       "      <td>0.0</td>\n",
       "      <td>0.0</td>\n",
       "      <td>0.0</td>\n",
       "    </tr>\n",
       "    <tr>\n",
       "      <th>1</th>\n",
       "      <td>1</td>\n",
       "      <td>When did the decline of coal start? It started...</td>\n",
       "      <td>0.0</td>\n",
       "      <td>0.0</td>\n",
       "      <td>1.0</td>\n",
       "      <td>1.0</td>\n",
       "      <td>0.0</td>\n",
       "    </tr>\n",
       "    <tr>\n",
       "      <th>2</th>\n",
       "      <td>2</td>\n",
       "      <td>Hillary Clinton agrees with John McCain \"by vo...</td>\n",
       "      <td>70.0</td>\n",
       "      <td>71.0</td>\n",
       "      <td>160.0</td>\n",
       "      <td>163.0</td>\n",
       "      <td>9.0</td>\n",
       "    </tr>\n",
       "    <tr>\n",
       "      <th>3</th>\n",
       "      <td>0</td>\n",
       "      <td>Health care reform legislation is likely to ma...</td>\n",
       "      <td>7.0</td>\n",
       "      <td>19.0</td>\n",
       "      <td>3.0</td>\n",
       "      <td>5.0</td>\n",
       "      <td>44.0</td>\n",
       "    </tr>\n",
       "    <tr>\n",
       "      <th>4</th>\n",
       "      <td>1</td>\n",
       "      <td>The economic turnaround started at the end of ...</td>\n",
       "      <td>15.0</td>\n",
       "      <td>9.0</td>\n",
       "      <td>20.0</td>\n",
       "      <td>19.0</td>\n",
       "      <td>2.0</td>\n",
       "    </tr>\n",
       "  </tbody>\n",
       "</table>\n",
       "</div>"
      ],
      "text/plain": [
       "   label                                          statement  \\\n",
       "0      0  Says the Annies List political group supports ...   \n",
       "1      1  When did the decline of coal start? It started...   \n",
       "2      2  Hillary Clinton agrees with John McCain \"by vo...   \n",
       "3      0  Health care reform legislation is likely to ma...   \n",
       "4      1  The economic turnaround started at the end of ...   \n",
       "\n",
       "   barely_true_counts  false_counts  half_true_counts  mostly_true_counts  \\\n",
       "0                 0.0           1.0               0.0                 0.0   \n",
       "1                 0.0           0.0               1.0                 1.0   \n",
       "2                70.0          71.0             160.0               163.0   \n",
       "3                 7.0          19.0               3.0                 5.0   \n",
       "4                15.0           9.0              20.0                19.0   \n",
       "\n",
       "   pants_on_fire_counts  \n",
       "0                   0.0  \n",
       "1                   0.0  \n",
       "2                   9.0  \n",
       "3                  44.0  \n",
       "4                   2.0  "
      ]
     },
     "metadata": {},
     "output_type": "display_data"
    },
    {
     "name": "stdout",
     "output_type": "stream",
     "text": [
      "\n",
      "Test Dataset:\n"
     ]
    },
    {
     "data": {
      "application/vnd.microsoft.datawrangler.viewer.v0+json": {
       "columns": [
        {
         "name": "index",
         "rawType": "int64",
         "type": "integer"
        },
        {
         "name": "label",
         "rawType": "int64",
         "type": "integer"
        },
        {
         "name": "statement",
         "rawType": "object",
         "type": "string"
        },
        {
         "name": "barely_true_counts",
         "rawType": "float32",
         "type": "float"
        },
        {
         "name": "false_counts",
         "rawType": "float32",
         "type": "float"
        },
        {
         "name": "half_true_counts",
         "rawType": "float32",
         "type": "float"
        },
        {
         "name": "mostly_true_counts",
         "rawType": "float32",
         "type": "float"
        },
        {
         "name": "pants_on_fire_counts",
         "rawType": "float32",
         "type": "float"
        }
       ],
       "conversionMethod": "pd.DataFrame",
       "ref": "5594ee7d-01fa-4931-9f16-c4c32e459531",
       "rows": [
        [
         "0",
         "3",
         "Building a wall on the U.S.-Mexico border will take literally years.",
         "30.0",
         "30.0",
         "42.0",
         "23.0",
         "18.0"
        ],
        [
         "1",
         "0",
         "Wisconsin is on pace to double the number of layoffs this year.",
         "2.0",
         "1.0",
         "0.0",
         "0.0",
         "0.0"
        ],
        [
         "2",
         "0",
         "Says John McCain has done nothing to help the vets.",
         "63.0",
         "114.0",
         "51.0",
         "37.0",
         "61.0"
        ],
        [
         "3",
         "1",
         "Suzanne Bonamici supports a plan that will cut choice for Medicare Advantage seniors.",
         "1.0",
         "1.0",
         "3.0",
         "1.0",
         "1.0"
        ],
        [
         "4",
         "5",
         "When asked by a reporter whether hes at the center of a criminal scheme to violate campaign laws, Gov. Scott Walker nodded yes.",
         "5.0",
         "7.0",
         "2.0",
         "2.0",
         "7.0"
        ]
       ],
       "shape": {
        "columns": 7,
        "rows": 5
       }
      },
      "text/html": [
       "<div>\n",
       "<style scoped>\n",
       "    .dataframe tbody tr th:only-of-type {\n",
       "        vertical-align: middle;\n",
       "    }\n",
       "\n",
       "    .dataframe tbody tr th {\n",
       "        vertical-align: top;\n",
       "    }\n",
       "\n",
       "    .dataframe thead th {\n",
       "        text-align: right;\n",
       "    }\n",
       "</style>\n",
       "<table border=\"1\" class=\"dataframe\">\n",
       "  <thead>\n",
       "    <tr style=\"text-align: right;\">\n",
       "      <th></th>\n",
       "      <th>label</th>\n",
       "      <th>statement</th>\n",
       "      <th>barely_true_counts</th>\n",
       "      <th>false_counts</th>\n",
       "      <th>half_true_counts</th>\n",
       "      <th>mostly_true_counts</th>\n",
       "      <th>pants_on_fire_counts</th>\n",
       "    </tr>\n",
       "  </thead>\n",
       "  <tbody>\n",
       "    <tr>\n",
       "      <th>0</th>\n",
       "      <td>3</td>\n",
       "      <td>Building a wall on the U.S.-Mexico border will...</td>\n",
       "      <td>30.0</td>\n",
       "      <td>30.0</td>\n",
       "      <td>42.0</td>\n",
       "      <td>23.0</td>\n",
       "      <td>18.0</td>\n",
       "    </tr>\n",
       "    <tr>\n",
       "      <th>1</th>\n",
       "      <td>0</td>\n",
       "      <td>Wisconsin is on pace to double the number of l...</td>\n",
       "      <td>2.0</td>\n",
       "      <td>1.0</td>\n",
       "      <td>0.0</td>\n",
       "      <td>0.0</td>\n",
       "      <td>0.0</td>\n",
       "    </tr>\n",
       "    <tr>\n",
       "      <th>2</th>\n",
       "      <td>0</td>\n",
       "      <td>Says John McCain has done nothing to help the ...</td>\n",
       "      <td>63.0</td>\n",
       "      <td>114.0</td>\n",
       "      <td>51.0</td>\n",
       "      <td>37.0</td>\n",
       "      <td>61.0</td>\n",
       "    </tr>\n",
       "    <tr>\n",
       "      <th>3</th>\n",
       "      <td>1</td>\n",
       "      <td>Suzanne Bonamici supports a plan that will cut...</td>\n",
       "      <td>1.0</td>\n",
       "      <td>1.0</td>\n",
       "      <td>3.0</td>\n",
       "      <td>1.0</td>\n",
       "      <td>1.0</td>\n",
       "    </tr>\n",
       "    <tr>\n",
       "      <th>4</th>\n",
       "      <td>5</td>\n",
       "      <td>When asked by a reporter whether hes at the ce...</td>\n",
       "      <td>5.0</td>\n",
       "      <td>7.0</td>\n",
       "      <td>2.0</td>\n",
       "      <td>2.0</td>\n",
       "      <td>7.0</td>\n",
       "    </tr>\n",
       "  </tbody>\n",
       "</table>\n",
       "</div>"
      ],
      "text/plain": [
       "   label                                          statement  \\\n",
       "0      3  Building a wall on the U.S.-Mexico border will...   \n",
       "1      0  Wisconsin is on pace to double the number of l...   \n",
       "2      0  Says John McCain has done nothing to help the ...   \n",
       "3      1  Suzanne Bonamici supports a plan that will cut...   \n",
       "4      5  When asked by a reporter whether hes at the ce...   \n",
       "\n",
       "   barely_true_counts  false_counts  half_true_counts  mostly_true_counts  \\\n",
       "0                30.0          30.0              42.0                23.0   \n",
       "1                 2.0           1.0               0.0                 0.0   \n",
       "2                63.0         114.0              51.0                37.0   \n",
       "3                 1.0           1.0               3.0                 1.0   \n",
       "4                 5.0           7.0               2.0                 2.0   \n",
       "\n",
       "   pants_on_fire_counts  \n",
       "0                  18.0  \n",
       "1                   0.0  \n",
       "2                  61.0  \n",
       "3                   1.0  \n",
       "4                   7.0  "
      ]
     },
     "metadata": {},
     "output_type": "display_data"
    },
    {
     "name": "stdout",
     "output_type": "stream",
     "text": [
      "\n",
      "Validation Dataset:\n"
     ]
    },
    {
     "data": {
      "application/vnd.microsoft.datawrangler.viewer.v0+json": {
       "columns": [
        {
         "name": "index",
         "rawType": "int64",
         "type": "integer"
        },
        {
         "name": "label",
         "rawType": "int64",
         "type": "integer"
        },
        {
         "name": "statement",
         "rawType": "object",
         "type": "string"
        },
        {
         "name": "barely_true_counts",
         "rawType": "float32",
         "type": "float"
        },
        {
         "name": "false_counts",
         "rawType": "float32",
         "type": "float"
        },
        {
         "name": "half_true_counts",
         "rawType": "float32",
         "type": "float"
        },
        {
         "name": "mostly_true_counts",
         "rawType": "float32",
         "type": "float"
        },
        {
         "name": "pants_on_fire_counts",
         "rawType": "float32",
         "type": "float"
        }
       ],
       "conversionMethod": "pd.DataFrame",
       "ref": "fb975e78-e82a-41e2-bfc5-d73d7328e2ba",
       "rows": [
        [
         "0",
         "4",
         "We have less Americans working now than in the 70s.",
         "1.0",
         "0.0",
         "1.0",
         "0.0",
         "0.0"
        ],
        [
         "1",
         "5",
         "When Obama was sworn into office, he DID NOT use the Holy Bible, but instead the Kuran (Their equivalency to our Bible, but very different beliefs).",
         "11.0",
         "43.0",
         "8.0",
         "5.0",
         "105.0"
        ],
        [
         "2",
         "0",
         "Says Having organizations parading as being social welfare organizations and then being involved in the political combat harkens back to why the statute a hundred years ago said that they were prohibited.",
         "0.0",
         "1.0",
         "1.0",
         "1.0",
         "0.0"
        ],
        [
         "3",
         "1",
         "Says nearly half of Oregons children are poor.",
         "0.0",
         "1.0",
         "1.0",
         "1.0",
         "0.0"
        ],
        [
         "4",
         "1",
         "On attacks by Republicans that various programs in the economic stimulus plan are not stimulative, \"If you add all that stuff up, it accounts for less than 1 percent of the overall package.\"",
         "70.0",
         "71.0",
         "160.0",
         "163.0",
         "9.0"
        ]
       ],
       "shape": {
        "columns": 7,
        "rows": 5
       }
      },
      "text/html": [
       "<div>\n",
       "<style scoped>\n",
       "    .dataframe tbody tr th:only-of-type {\n",
       "        vertical-align: middle;\n",
       "    }\n",
       "\n",
       "    .dataframe tbody tr th {\n",
       "        vertical-align: top;\n",
       "    }\n",
       "\n",
       "    .dataframe thead th {\n",
       "        text-align: right;\n",
       "    }\n",
       "</style>\n",
       "<table border=\"1\" class=\"dataframe\">\n",
       "  <thead>\n",
       "    <tr style=\"text-align: right;\">\n",
       "      <th></th>\n",
       "      <th>label</th>\n",
       "      <th>statement</th>\n",
       "      <th>barely_true_counts</th>\n",
       "      <th>false_counts</th>\n",
       "      <th>half_true_counts</th>\n",
       "      <th>mostly_true_counts</th>\n",
       "      <th>pants_on_fire_counts</th>\n",
       "    </tr>\n",
       "  </thead>\n",
       "  <tbody>\n",
       "    <tr>\n",
       "      <th>0</th>\n",
       "      <td>4</td>\n",
       "      <td>We have less Americans working now than in the...</td>\n",
       "      <td>1.0</td>\n",
       "      <td>0.0</td>\n",
       "      <td>1.0</td>\n",
       "      <td>0.0</td>\n",
       "      <td>0.0</td>\n",
       "    </tr>\n",
       "    <tr>\n",
       "      <th>1</th>\n",
       "      <td>5</td>\n",
       "      <td>When Obama was sworn into office, he DID NOT u...</td>\n",
       "      <td>11.0</td>\n",
       "      <td>43.0</td>\n",
       "      <td>8.0</td>\n",
       "      <td>5.0</td>\n",
       "      <td>105.0</td>\n",
       "    </tr>\n",
       "    <tr>\n",
       "      <th>2</th>\n",
       "      <td>0</td>\n",
       "      <td>Says Having organizations parading as being so...</td>\n",
       "      <td>0.0</td>\n",
       "      <td>1.0</td>\n",
       "      <td>1.0</td>\n",
       "      <td>1.0</td>\n",
       "      <td>0.0</td>\n",
       "    </tr>\n",
       "    <tr>\n",
       "      <th>3</th>\n",
       "      <td>1</td>\n",
       "      <td>Says nearly half of Oregons children are poor.</td>\n",
       "      <td>0.0</td>\n",
       "      <td>1.0</td>\n",
       "      <td>1.0</td>\n",
       "      <td>1.0</td>\n",
       "      <td>0.0</td>\n",
       "    </tr>\n",
       "    <tr>\n",
       "      <th>4</th>\n",
       "      <td>1</td>\n",
       "      <td>On attacks by Republicans that various program...</td>\n",
       "      <td>70.0</td>\n",
       "      <td>71.0</td>\n",
       "      <td>160.0</td>\n",
       "      <td>163.0</td>\n",
       "      <td>9.0</td>\n",
       "    </tr>\n",
       "  </tbody>\n",
       "</table>\n",
       "</div>"
      ],
      "text/plain": [
       "   label                                          statement  \\\n",
       "0      4  We have less Americans working now than in the...   \n",
       "1      5  When Obama was sworn into office, he DID NOT u...   \n",
       "2      0  Says Having organizations parading as being so...   \n",
       "3      1     Says nearly half of Oregons children are poor.   \n",
       "4      1  On attacks by Republicans that various program...   \n",
       "\n",
       "   barely_true_counts  false_counts  half_true_counts  mostly_true_counts  \\\n",
       "0                 1.0           0.0               1.0                 0.0   \n",
       "1                11.0          43.0               8.0                 5.0   \n",
       "2                 0.0           1.0               1.0                 1.0   \n",
       "3                 0.0           1.0               1.0                 1.0   \n",
       "4                70.0          71.0             160.0               163.0   \n",
       "\n",
       "   pants_on_fire_counts  \n",
       "0                   0.0  \n",
       "1                 105.0  \n",
       "2                   0.0  \n",
       "3                   0.0  \n",
       "4                   9.0  "
      ]
     },
     "metadata": {},
     "output_type": "display_data"
    }
   ],
   "source": [
    "# Drop specified columns from each dataset\n",
    "columns_to_drop = ['id', 'subject', 'speaker', 'job_title', 'state_info', 'party_affiliation', 'context']\n",
    "\n",
    "ds_train = ds_train.drop(columns=columns_to_drop)\n",
    "ds_test = ds_test.drop(columns=columns_to_drop) \n",
    "ds_validation = ds_validation.drop(columns=columns_to_drop)\n",
    "\n",
    "# Display results\n",
    "print(\"Training Dataset:\")\n",
    "display(ds_train.head())\n",
    "print(\"\\nTest Dataset:\") \n",
    "display(ds_test.head())\n",
    "print(\"\\nValidation Dataset:\")\n",
    "display(ds_validation.head())"
   ]
  },
  {
   "cell_type": "code",
   "execution_count": 4,
   "id": "1f5811c6",
   "metadata": {},
   "outputs": [],
   "source": [
    "def new_false(ds_train, ds_test, ds_validation):\n",
    "    \"\"\"\n",
    "    Combines the 'false_counts' and 'pants_on_fire_counts' columns into a single 'false_counts' column,\n",
    "    and combines the 'barely_true' column into the 'half_true' column.\n",
    "    Drops the 'pants_on_fire_counts' and 'barely_true' columns from each dataset.\n",
    "\n",
    "    Parameters:\n",
    "        ds_train (pd.DataFrame): Training dataset\n",
    "        ds_test (pd.DataFrame): Test dataset\n",
    "        ds_validation (pd.DataFrame): Validation dataset\n",
    "\n",
    "    Returns:\n",
    "        tuple: Updated (ds_train, ds_test, ds_validation) DataFrames\n",
    "    \"\"\"\n",
    "    for ds in [ds_train, ds_test, ds_validation]:\n",
    "        # Combine false_counts and pants_on_fire_counts\n",
    "        ds['false_counts'] = ds['false_counts'] + ds['pants_on_fire_counts']\n",
    "        ds.drop('pants_on_fire_counts', axis=1, inplace=True)\n",
    "        \n",
    "        # Combine barely_true into half_true_counts\n",
    "        ds['half_true_counts'] = ds['half_true_counts'] + ds['barely_true_counts']\n",
    "        ds.drop('barely_true_counts', axis=1, inplace=True)\n",
    "        \n",
    "    return ds_train, ds_test, ds_validation"
   ]
  },
  {
   "cell_type": "code",
   "execution_count": 5,
   "id": "8b15d0a8",
   "metadata": {},
   "outputs": [],
   "source": [
    "ds_train, ds_test, ds_validation = new_false(ds_train, ds_test, ds_validation)"
   ]
  },
  {
   "cell_type": "code",
   "execution_count": 6,
   "id": "56856f96",
   "metadata": {},
   "outputs": [
    {
     "name": "stdout",
     "output_type": "stream",
     "text": [
      "Training Dataset:\n"
     ]
    },
    {
     "data": {
      "application/vnd.microsoft.datawrangler.viewer.v0+json": {
       "columns": [
        {
         "name": "index",
         "rawType": "int64",
         "type": "integer"
        },
        {
         "name": "label",
         "rawType": "int64",
         "type": "integer"
        },
        {
         "name": "statement",
         "rawType": "object",
         "type": "string"
        },
        {
         "name": "false_counts",
         "rawType": "float32",
         "type": "float"
        },
        {
         "name": "half_true_counts",
         "rawType": "float32",
         "type": "float"
        },
        {
         "name": "mostly_true_counts",
         "rawType": "float32",
         "type": "float"
        }
       ],
       "conversionMethod": "pd.DataFrame",
       "ref": "d1055461-ba9c-4453-9802-d0551c4bfea5",
       "rows": [
        [
         "0",
         "0",
         "Says the Annies List political group supports third-trimester abortions on demand.",
         "1.0",
         "0.0",
         "0.0"
        ],
        [
         "1",
         "1",
         "When did the decline of coal start? It started when natural gas took off that started to begin in (President George W.) Bushs administration.",
         "0.0",
         "1.0",
         "1.0"
        ],
        [
         "2",
         "2",
         "Hillary Clinton agrees with John McCain \"by voting to give George Bush the benefit of the doubt on Iran.\"",
         "80.0",
         "230.0",
         "163.0"
        ],
        [
         "3",
         "0",
         "Health care reform legislation is likely to mandate free sex change surgeries.",
         "63.0",
         "10.0",
         "5.0"
        ],
        [
         "4",
         "1",
         "The economic turnaround started at the end of my term.",
         "11.0",
         "35.0",
         "19.0"
        ]
       ],
       "shape": {
        "columns": 5,
        "rows": 5
       }
      },
      "text/html": [
       "<div>\n",
       "<style scoped>\n",
       "    .dataframe tbody tr th:only-of-type {\n",
       "        vertical-align: middle;\n",
       "    }\n",
       "\n",
       "    .dataframe tbody tr th {\n",
       "        vertical-align: top;\n",
       "    }\n",
       "\n",
       "    .dataframe thead th {\n",
       "        text-align: right;\n",
       "    }\n",
       "</style>\n",
       "<table border=\"1\" class=\"dataframe\">\n",
       "  <thead>\n",
       "    <tr style=\"text-align: right;\">\n",
       "      <th></th>\n",
       "      <th>label</th>\n",
       "      <th>statement</th>\n",
       "      <th>false_counts</th>\n",
       "      <th>half_true_counts</th>\n",
       "      <th>mostly_true_counts</th>\n",
       "    </tr>\n",
       "  </thead>\n",
       "  <tbody>\n",
       "    <tr>\n",
       "      <th>0</th>\n",
       "      <td>0</td>\n",
       "      <td>Says the Annies List political group supports ...</td>\n",
       "      <td>1.0</td>\n",
       "      <td>0.0</td>\n",
       "      <td>0.0</td>\n",
       "    </tr>\n",
       "    <tr>\n",
       "      <th>1</th>\n",
       "      <td>1</td>\n",
       "      <td>When did the decline of coal start? It started...</td>\n",
       "      <td>0.0</td>\n",
       "      <td>1.0</td>\n",
       "      <td>1.0</td>\n",
       "    </tr>\n",
       "    <tr>\n",
       "      <th>2</th>\n",
       "      <td>2</td>\n",
       "      <td>Hillary Clinton agrees with John McCain \"by vo...</td>\n",
       "      <td>80.0</td>\n",
       "      <td>230.0</td>\n",
       "      <td>163.0</td>\n",
       "    </tr>\n",
       "    <tr>\n",
       "      <th>3</th>\n",
       "      <td>0</td>\n",
       "      <td>Health care reform legislation is likely to ma...</td>\n",
       "      <td>63.0</td>\n",
       "      <td>10.0</td>\n",
       "      <td>5.0</td>\n",
       "    </tr>\n",
       "    <tr>\n",
       "      <th>4</th>\n",
       "      <td>1</td>\n",
       "      <td>The economic turnaround started at the end of ...</td>\n",
       "      <td>11.0</td>\n",
       "      <td>35.0</td>\n",
       "      <td>19.0</td>\n",
       "    </tr>\n",
       "  </tbody>\n",
       "</table>\n",
       "</div>"
      ],
      "text/plain": [
       "   label                                          statement  false_counts  \\\n",
       "0      0  Says the Annies List political group supports ...           1.0   \n",
       "1      1  When did the decline of coal start? It started...           0.0   \n",
       "2      2  Hillary Clinton agrees with John McCain \"by vo...          80.0   \n",
       "3      0  Health care reform legislation is likely to ma...          63.0   \n",
       "4      1  The economic turnaround started at the end of ...          11.0   \n",
       "\n",
       "   half_true_counts  mostly_true_counts  \n",
       "0               0.0                 0.0  \n",
       "1               1.0                 1.0  \n",
       "2             230.0               163.0  \n",
       "3              10.0                 5.0  \n",
       "4              35.0                19.0  "
      ]
     },
     "metadata": {},
     "output_type": "display_data"
    },
    {
     "name": "stdout",
     "output_type": "stream",
     "text": [
      "\n",
      "Test Dataset:\n"
     ]
    },
    {
     "data": {
      "application/vnd.microsoft.datawrangler.viewer.v0+json": {
       "columns": [
        {
         "name": "index",
         "rawType": "int64",
         "type": "integer"
        },
        {
         "name": "label",
         "rawType": "int64",
         "type": "integer"
        },
        {
         "name": "statement",
         "rawType": "object",
         "type": "string"
        },
        {
         "name": "false_counts",
         "rawType": "float32",
         "type": "float"
        },
        {
         "name": "half_true_counts",
         "rawType": "float32",
         "type": "float"
        },
        {
         "name": "mostly_true_counts",
         "rawType": "float32",
         "type": "float"
        }
       ],
       "conversionMethod": "pd.DataFrame",
       "ref": "2c914f05-e6aa-46b8-aa2e-0ca9d51b79cd",
       "rows": [
        [
         "0",
         "3",
         "Building a wall on the U.S.-Mexico border will take literally years.",
         "48.0",
         "72.0",
         "23.0"
        ],
        [
         "1",
         "0",
         "Wisconsin is on pace to double the number of layoffs this year.",
         "1.0",
         "2.0",
         "0.0"
        ],
        [
         "2",
         "0",
         "Says John McCain has done nothing to help the vets.",
         "175.0",
         "114.0",
         "37.0"
        ],
        [
         "3",
         "1",
         "Suzanne Bonamici supports a plan that will cut choice for Medicare Advantage seniors.",
         "2.0",
         "4.0",
         "1.0"
        ],
        [
         "4",
         "5",
         "When asked by a reporter whether hes at the center of a criminal scheme to violate campaign laws, Gov. Scott Walker nodded yes.",
         "14.0",
         "7.0",
         "2.0"
        ]
       ],
       "shape": {
        "columns": 5,
        "rows": 5
       }
      },
      "text/html": [
       "<div>\n",
       "<style scoped>\n",
       "    .dataframe tbody tr th:only-of-type {\n",
       "        vertical-align: middle;\n",
       "    }\n",
       "\n",
       "    .dataframe tbody tr th {\n",
       "        vertical-align: top;\n",
       "    }\n",
       "\n",
       "    .dataframe thead th {\n",
       "        text-align: right;\n",
       "    }\n",
       "</style>\n",
       "<table border=\"1\" class=\"dataframe\">\n",
       "  <thead>\n",
       "    <tr style=\"text-align: right;\">\n",
       "      <th></th>\n",
       "      <th>label</th>\n",
       "      <th>statement</th>\n",
       "      <th>false_counts</th>\n",
       "      <th>half_true_counts</th>\n",
       "      <th>mostly_true_counts</th>\n",
       "    </tr>\n",
       "  </thead>\n",
       "  <tbody>\n",
       "    <tr>\n",
       "      <th>0</th>\n",
       "      <td>3</td>\n",
       "      <td>Building a wall on the U.S.-Mexico border will...</td>\n",
       "      <td>48.0</td>\n",
       "      <td>72.0</td>\n",
       "      <td>23.0</td>\n",
       "    </tr>\n",
       "    <tr>\n",
       "      <th>1</th>\n",
       "      <td>0</td>\n",
       "      <td>Wisconsin is on pace to double the number of l...</td>\n",
       "      <td>1.0</td>\n",
       "      <td>2.0</td>\n",
       "      <td>0.0</td>\n",
       "    </tr>\n",
       "    <tr>\n",
       "      <th>2</th>\n",
       "      <td>0</td>\n",
       "      <td>Says John McCain has done nothing to help the ...</td>\n",
       "      <td>175.0</td>\n",
       "      <td>114.0</td>\n",
       "      <td>37.0</td>\n",
       "    </tr>\n",
       "    <tr>\n",
       "      <th>3</th>\n",
       "      <td>1</td>\n",
       "      <td>Suzanne Bonamici supports a plan that will cut...</td>\n",
       "      <td>2.0</td>\n",
       "      <td>4.0</td>\n",
       "      <td>1.0</td>\n",
       "    </tr>\n",
       "    <tr>\n",
       "      <th>4</th>\n",
       "      <td>5</td>\n",
       "      <td>When asked by a reporter whether hes at the ce...</td>\n",
       "      <td>14.0</td>\n",
       "      <td>7.0</td>\n",
       "      <td>2.0</td>\n",
       "    </tr>\n",
       "  </tbody>\n",
       "</table>\n",
       "</div>"
      ],
      "text/plain": [
       "   label                                          statement  false_counts  \\\n",
       "0      3  Building a wall on the U.S.-Mexico border will...          48.0   \n",
       "1      0  Wisconsin is on pace to double the number of l...           1.0   \n",
       "2      0  Says John McCain has done nothing to help the ...         175.0   \n",
       "3      1  Suzanne Bonamici supports a plan that will cut...           2.0   \n",
       "4      5  When asked by a reporter whether hes at the ce...          14.0   \n",
       "\n",
       "   half_true_counts  mostly_true_counts  \n",
       "0              72.0                23.0  \n",
       "1               2.0                 0.0  \n",
       "2             114.0                37.0  \n",
       "3               4.0                 1.0  \n",
       "4               7.0                 2.0  "
      ]
     },
     "metadata": {},
     "output_type": "display_data"
    },
    {
     "name": "stdout",
     "output_type": "stream",
     "text": [
      "\n",
      "Validation Dataset:\n"
     ]
    },
    {
     "data": {
      "application/vnd.microsoft.datawrangler.viewer.v0+json": {
       "columns": [
        {
         "name": "index",
         "rawType": "int64",
         "type": "integer"
        },
        {
         "name": "label",
         "rawType": "int64",
         "type": "integer"
        },
        {
         "name": "statement",
         "rawType": "object",
         "type": "string"
        },
        {
         "name": "false_counts",
         "rawType": "float32",
         "type": "float"
        },
        {
         "name": "half_true_counts",
         "rawType": "float32",
         "type": "float"
        },
        {
         "name": "mostly_true_counts",
         "rawType": "float32",
         "type": "float"
        }
       ],
       "conversionMethod": "pd.DataFrame",
       "ref": "6d957ab5-b3e9-4d9c-a4a1-76dbd4e03576",
       "rows": [
        [
         "0",
         "4",
         "We have less Americans working now than in the 70s.",
         "0.0",
         "2.0",
         "0.0"
        ],
        [
         "1",
         "5",
         "When Obama was sworn into office, he DID NOT use the Holy Bible, but instead the Kuran (Their equivalency to our Bible, but very different beliefs).",
         "148.0",
         "19.0",
         "5.0"
        ],
        [
         "2",
         "0",
         "Says Having organizations parading as being social welfare organizations and then being involved in the political combat harkens back to why the statute a hundred years ago said that they were prohibited.",
         "1.0",
         "1.0",
         "1.0"
        ],
        [
         "3",
         "1",
         "Says nearly half of Oregons children are poor.",
         "1.0",
         "1.0",
         "1.0"
        ],
        [
         "4",
         "1",
         "On attacks by Republicans that various programs in the economic stimulus plan are not stimulative, \"If you add all that stuff up, it accounts for less than 1 percent of the overall package.\"",
         "80.0",
         "230.0",
         "163.0"
        ]
       ],
       "shape": {
        "columns": 5,
        "rows": 5
       }
      },
      "text/html": [
       "<div>\n",
       "<style scoped>\n",
       "    .dataframe tbody tr th:only-of-type {\n",
       "        vertical-align: middle;\n",
       "    }\n",
       "\n",
       "    .dataframe tbody tr th {\n",
       "        vertical-align: top;\n",
       "    }\n",
       "\n",
       "    .dataframe thead th {\n",
       "        text-align: right;\n",
       "    }\n",
       "</style>\n",
       "<table border=\"1\" class=\"dataframe\">\n",
       "  <thead>\n",
       "    <tr style=\"text-align: right;\">\n",
       "      <th></th>\n",
       "      <th>label</th>\n",
       "      <th>statement</th>\n",
       "      <th>false_counts</th>\n",
       "      <th>half_true_counts</th>\n",
       "      <th>mostly_true_counts</th>\n",
       "    </tr>\n",
       "  </thead>\n",
       "  <tbody>\n",
       "    <tr>\n",
       "      <th>0</th>\n",
       "      <td>4</td>\n",
       "      <td>We have less Americans working now than in the...</td>\n",
       "      <td>0.0</td>\n",
       "      <td>2.0</td>\n",
       "      <td>0.0</td>\n",
       "    </tr>\n",
       "    <tr>\n",
       "      <th>1</th>\n",
       "      <td>5</td>\n",
       "      <td>When Obama was sworn into office, he DID NOT u...</td>\n",
       "      <td>148.0</td>\n",
       "      <td>19.0</td>\n",
       "      <td>5.0</td>\n",
       "    </tr>\n",
       "    <tr>\n",
       "      <th>2</th>\n",
       "      <td>0</td>\n",
       "      <td>Says Having organizations parading as being so...</td>\n",
       "      <td>1.0</td>\n",
       "      <td>1.0</td>\n",
       "      <td>1.0</td>\n",
       "    </tr>\n",
       "    <tr>\n",
       "      <th>3</th>\n",
       "      <td>1</td>\n",
       "      <td>Says nearly half of Oregons children are poor.</td>\n",
       "      <td>1.0</td>\n",
       "      <td>1.0</td>\n",
       "      <td>1.0</td>\n",
       "    </tr>\n",
       "    <tr>\n",
       "      <th>4</th>\n",
       "      <td>1</td>\n",
       "      <td>On attacks by Republicans that various program...</td>\n",
       "      <td>80.0</td>\n",
       "      <td>230.0</td>\n",
       "      <td>163.0</td>\n",
       "    </tr>\n",
       "  </tbody>\n",
       "</table>\n",
       "</div>"
      ],
      "text/plain": [
       "   label                                          statement  false_counts  \\\n",
       "0      4  We have less Americans working now than in the...           0.0   \n",
       "1      5  When Obama was sworn into office, he DID NOT u...         148.0   \n",
       "2      0  Says Having organizations parading as being so...           1.0   \n",
       "3      1     Says nearly half of Oregons children are poor.           1.0   \n",
       "4      1  On attacks by Republicans that various program...          80.0   \n",
       "\n",
       "   half_true_counts  mostly_true_counts  \n",
       "0               2.0                 0.0  \n",
       "1              19.0                 5.0  \n",
       "2               1.0                 1.0  \n",
       "3               1.0                 1.0  \n",
       "4             230.0               163.0  "
      ]
     },
     "metadata": {},
     "output_type": "display_data"
    }
   ],
   "source": [
    "# Display results\n",
    "print(\"Training Dataset:\")\n",
    "display(ds_train.head())\n",
    "print(\"\\nTest Dataset:\") \n",
    "display(ds_test.head())\n",
    "print(\"\\nValidation Dataset:\")\n",
    "display(ds_validation.head())"
   ]
  },
  {
   "cell_type": "code",
   "execution_count": 7,
   "id": "2485608b",
   "metadata": {},
   "outputs": [
    {
     "name": "stdout",
     "output_type": "stream",
     "text": [
      "Longest statement (395 characters):\n",
      "Barbara Buono by the numbers: As a Trenton politician, she voted to raise taxes 154 times. Under her, property taxes up 70 percent. Backed a 16 percent sales tax increase. Utilities, nursing homes, cell phones, parking lots, lottery wins, gyms She taxed them all. Architect of Corzines budget, she drove New Jersey $2 billion into debt. Barbara Buono by the numbers: taking New Jersey backwards.\n",
      "Longest statement word count: 65\n",
      "Longest statement label: 2\n"
     ]
    }
   ],
   "source": [
    "# Find longest statement\n",
    "longest_statement = ds_train.loc[ds_train['statement'].str.len().idxmax(), 'statement']\n",
    "# Get the labels for the longest statement\n",
    "longest_statement_label = ds_train.loc[ds_train['statement'].str.len().idxmax(), 'label']\n",
    "\n",
    "# Get word count by splitting on whitespace and counting tokens\n",
    "word_count = len(longest_statement.split())\n",
    "\n",
    "\n",
    "print(f\"Longest statement ({len(longest_statement)} characters):\")\n",
    "print(longest_statement)\n",
    "print(f'Longest statement word count: {word_count}')\n",
    "print(f\"Longest statement label: {longest_statement_label}\")"
   ]
  },
  {
   "cell_type": "code",
   "execution_count": 8,
   "id": "976fb50e",
   "metadata": {},
   "outputs": [],
   "source": [
    "# Initialize ModelHelper\n",
    "model_helper = ModelHelper()"
   ]
  },
  {
   "cell_type": "code",
   "execution_count": 9,
   "id": "d8ce61bb",
   "metadata": {},
   "outputs": [
    {
     "name": "stdout",
     "output_type": "stream",
     "text": [
      "WARNING:tensorflow:From c:\\Users\\jason\\anaconda3\\envs\\dev\\lib\\site-packages\\tf_keras\\src\\backend.py:873: The name tf.get_default_graph is deprecated. Please use tf.compat.v1.get_default_graph instead.\n",
      "\n",
      "WARNING:tensorflow:From c:\\Users\\jason\\anaconda3\\envs\\dev\\lib\\site-packages\\tf_keras\\src\\utils\\tf_utils.py:492: The name tf.ragged.RaggedTensorValue is deprecated. Please use tf.compat.v1.ragged.RaggedTensorValue instead.\n",
      "\n"
     ]
    }
   ],
   "source": [
    "#Create Vectorizer\n",
    "model_helper.create_vectorizer(ds_train['statement'], max_sequence_length=60)\n",
    "\n",
    "# Preprocess text data\n",
    "train_sequences = model_helper.preprocess_text(ds_train['statement'].tolist())\n",
    "test_sequences = model_helper.preprocess_text(ds_test['statement'].tolist())\n",
    "val_sequences = model_helper.preprocess_text(ds_validation['statement'].tolist())"
   ]
  },
  {
   "cell_type": "code",
   "execution_count": 10,
   "id": "3fa49bcc",
   "metadata": {},
   "outputs": [],
   "source": [
    "# Get truthfulness columns\n",
    "truthfulness_columns = model_helper.truthfulness_columns\n",
    "truthfulness_columns.remove('pants_on_fire_counts')\n",
    "truthfulness_columns.remove('barely_true_counts')"
   ]
  },
  {
   "cell_type": "code",
   "execution_count": 11,
   "id": "43075b17",
   "metadata": {},
   "outputs": [],
   "source": [
    "# Get the raw count values for training\n",
    "train_labels = model_helper.normalize_counts(ds_train)\n",
    "test_labels = model_helper.normalize_counts(ds_test)\n",
    "val_labels = model_helper.normalize_counts(ds_validation)"
   ]
  },
  {
   "cell_type": "code",
   "execution_count": 14,
   "id": "36dcc988",
   "metadata": {},
   "outputs": [],
   "source": [
    "# Create text classification model\n",
    "vocab_size = 10000  # Matches max_tokens in preprocess_text\n",
    "embedding_dim = 100\n",
    "max_sequence_length = 200\n",
    "num_classes = len(truthfulness_columns)  # Number of truthfulness categories\n",
    "\n",
    "model = model_helper.create_text_classification_model(\n",
    "    num_classes=num_classes\n",
    ")"
   ]
  },
  {
   "cell_type": "code",
   "execution_count": 15,
   "id": "14a74105",
   "metadata": {},
   "outputs": [],
   "source": [
    "# Prepare datasets\n",
    "train_dataset, val_dataset, test_dataset = model_helper.prepare_datasets(\n",
    "    train_sequences=train_sequences,\n",
    "    train_labels=train_labels,\n",
    "    val_sequences=val_sequences,\n",
    "    val_labels=val_labels,\n",
    "    test_sequences=test_sequences,\n",
    "    test_labels=test_labels,\n",
    "    batch_size=32\n",
    ")"
   ]
  },
  {
   "cell_type": "code",
   "execution_count": 16,
   "id": "bf108f02",
   "metadata": {},
   "outputs": [
    {
     "data": {
      "text/plain": [
       "Reusing TensorBoard on port 6006 (pid 16988), started 1 day, 1:41:01 ago. (Use '!kill 16988' to kill it.)"
      ]
     },
     "metadata": {},
     "output_type": "display_data"
    },
    {
     "data": {
      "text/html": [
       "\n",
       "      <iframe id=\"tensorboard-frame-f51eca1d7b337a4e\" width=\"100%\" height=\"800\" frameborder=\"0\">\n",
       "      </iframe>\n",
       "      <script>\n",
       "        (function() {\n",
       "          const frame = document.getElementById(\"tensorboard-frame-f51eca1d7b337a4e\");\n",
       "          const url = new URL(\"http://localhost\");\n",
       "          const port = 6006;\n",
       "          if (port) {\n",
       "            url.port = port;\n",
       "          }\n",
       "          frame.src = url;\n",
       "        })();\n",
       "      </script>\n",
       "    "
      ],
      "text/plain": [
       "<IPython.core.display.HTML object>"
      ]
     },
     "metadata": {},
     "output_type": "display_data"
    },
    {
     "name": "stdout",
     "output_type": "stream",
     "text": [
      "Epoch 1/15\n",
      "WARNING:tensorflow:From c:\\Users\\jason\\anaconda3\\envs\\dev\\lib\\site-packages\\tf_keras\\src\\engine\\base_layer_utils.py:384: The name tf.executing_eagerly_outside_functions is deprecated. Please use tf.compat.v1.executing_eagerly_outside_functions instead.\n",
      "\n",
      "321/321 [==============================] - 9s 14ms/step - loss: 2.5588 - accuracy: 0.3489 - categorical_accuracy: 0.3489 - precision: 0.7823 - recall: 0.2812 - val_loss: 2.2665 - val_accuracy: 0.3100 - val_categorical_accuracy: 0.3100 - val_precision: 0.7882 - val_recall: 0.3342 - lr: 1.0000e-04\n",
      "Epoch 2/15\n",
      "321/321 [==============================] - 4s 13ms/step - loss: 2.3443 - accuracy: 0.3865 - categorical_accuracy: 0.3865 - precision: 0.8013 - recall: 0.2703 - val_loss: 2.0710 - val_accuracy: 0.3676 - val_categorical_accuracy: 0.3676 - val_precision: 0.8170 - val_recall: 0.2005 - lr: 1.0000e-04\n",
      "Epoch 3/15\n",
      "321/321 [==============================] - 4s 13ms/step - loss: 2.2457 - accuracy: 0.4032 - categorical_accuracy: 0.4032 - precision: 0.8030 - recall: 0.2556 - val_loss: 2.0232 - val_accuracy: 0.4502 - val_categorical_accuracy: 0.4502 - val_precision: 0.8389 - val_recall: 0.1565 - lr: 1.0000e-04\n",
      "Epoch 4/15\n",
      "321/321 [==============================] - 4s 12ms/step - loss: 2.1677 - accuracy: 0.4253 - categorical_accuracy: 0.4253 - precision: 0.8078 - recall: 0.2437 - val_loss: 1.9955 - val_accuracy: 0.4696 - val_categorical_accuracy: 0.4696 - val_precision: 0.8490 - val_recall: 0.1225 - lr: 1.0000e-04\n",
      "Epoch 5/15\n",
      "321/321 [==============================] - 4s 13ms/step - loss: 2.1192 - accuracy: 0.4263 - categorical_accuracy: 0.4263 - precision: 0.8125 - recall: 0.2327 - val_loss: 1.9734 - val_accuracy: 0.4852 - val_categorical_accuracy: 0.4852 - val_precision: 0.8560 - val_recall: 0.1060 - lr: 1.0000e-04\n",
      "Epoch 6/15\n",
      "321/321 [==============================] - 4s 11ms/step - loss: 2.0713 - accuracy: 0.4294 - categorical_accuracy: 0.4294 - precision: 0.8123 - recall: 0.2157 - val_loss: 1.9520 - val_accuracy: 0.5031 - val_categorical_accuracy: 0.5031 - val_precision: 0.8586 - val_recall: 0.0842 - lr: 1.0000e-04\n",
      "Epoch 7/15\n",
      "321/321 [==============================] - 4s 13ms/step - loss: 2.0271 - accuracy: 0.4433 - categorical_accuracy: 0.4433 - precision: 0.8191 - recall: 0.1968 - val_loss: 1.9349 - val_accuracy: 0.5164 - val_categorical_accuracy: 0.5164 - val_precision: 0.8640 - val_recall: 0.0713 - lr: 1.0000e-04\n",
      "Epoch 8/15\n",
      "321/321 [==============================] - 4s 13ms/step - loss: 1.9951 - accuracy: 0.4494 - categorical_accuracy: 0.4494 - precision: 0.8296 - recall: 0.1828 - val_loss: 1.9171 - val_accuracy: 0.5366 - val_categorical_accuracy: 0.5366 - val_precision: 0.8743 - val_recall: 0.0552 - lr: 1.0000e-04\n",
      "Epoch 9/15\n",
      "321/321 [==============================] - 4s 11ms/step - loss: 1.9585 - accuracy: 0.4548 - categorical_accuracy: 0.4548 - precision: 0.8328 - recall: 0.1681 - val_loss: 1.8999 - val_accuracy: 0.5366 - val_categorical_accuracy: 0.5366 - val_precision: 0.8710 - val_recall: 0.0446 - lr: 1.0000e-04\n",
      "Epoch 10/15\n",
      "321/321 [==============================] - 4s 13ms/step - loss: 1.9247 - accuracy: 0.4727 - categorical_accuracy: 0.4727 - precision: 0.8296 - recall: 0.1495 - val_loss: 1.8815 - val_accuracy: 0.5405 - val_categorical_accuracy: 0.5405 - val_precision: 0.8824 - val_recall: 0.0297 - lr: 1.0000e-04\n",
      "Epoch 11/15\n",
      "321/321 [==============================] - 4s 11ms/step - loss: 1.9008 - accuracy: 0.4800 - categorical_accuracy: 0.4800 - precision: 0.8326 - recall: 0.1334 - val_loss: 1.8626 - val_accuracy: 0.5639 - val_categorical_accuracy: 0.5639 - val_precision: 0.9157 - val_recall: 0.0251 - lr: 1.0000e-04\n",
      "Epoch 12/15\n",
      "321/321 [==============================] - 4s 12ms/step - loss: 1.8717 - accuracy: 0.4915 - categorical_accuracy: 0.4915 - precision: 0.8365 - recall: 0.1198 - val_loss: 1.8439 - val_accuracy: 0.5631 - val_categorical_accuracy: 0.5631 - val_precision: 0.8939 - val_recall: 0.0195 - lr: 1.0000e-04\n",
      "Epoch 13/15\n",
      "321/321 [==============================] - 4s 13ms/step - loss: 1.8475 - accuracy: 0.5032 - categorical_accuracy: 0.5032 - precision: 0.8372 - recall: 0.1043 - val_loss: 1.8244 - val_accuracy: 0.5709 - val_categorical_accuracy: 0.5709 - val_precision: 0.8085 - val_recall: 0.0125 - lr: 1.0000e-04\n",
      "Epoch 14/15\n",
      "321/321 [==============================] - 4s 11ms/step - loss: 1.8248 - accuracy: 0.5090 - categorical_accuracy: 0.5090 - precision: 0.8374 - recall: 0.0925 - val_loss: 1.8056 - val_accuracy: 0.5779 - val_categorical_accuracy: 0.5779 - val_precision: 0.7931 - val_recall: 0.0076 - lr: 1.0000e-04\n",
      "Epoch 15/15\n",
      "321/321 [==============================] - 4s 12ms/step - loss: 1.8013 - accuracy: 0.5184 - categorical_accuracy: 0.5184 - precision: 0.8335 - recall: 0.0796 - val_loss: 1.7855 - val_accuracy: 0.5810 - val_categorical_accuracy: 0.5810 - val_precision: 0.9167 - val_recall: 0.0073 - lr: 1.0000e-04\n"
     ]
    }
   ],
   "source": [
    "%load_ext tensorboard\n",
    "%tensorboard --logdir models/logs/fit\n",
    "\n",
    "# Train the model using ModelHelper's train_model method\n",
    "history = model_helper.train_model(\n",
    "    model=model,\n",
    "    train_data=train_dataset,\n",
    "    validation_data=val_dataset,\n",
    "    epochs=15,\n",
    "    batch_size=32\n",
    ")"
   ]
  },
  {
   "cell_type": "code",
   "execution_count": 17,
   "id": "87b5400d",
   "metadata": {},
   "outputs": [
    {
     "name": "stdout",
     "output_type": "stream",
     "text": [
      "41/41 [==============================] - 0s 6ms/step - loss: 1.7840 - accuracy: 0.5627 - categorical_accuracy: 0.5627 - precision: 0.8824 - recall: 0.0049\n",
      "[1.7840112447738647, 0.5627435445785522, 0.5627435445785522, 0.8823529481887817, 0.004871711600571871]\n"
     ]
    }
   ],
   "source": [
    "# Evaluate on test set\n",
    "test_metrics = model.evaluate(test_dataset)\n",
    "print(test_metrics)"
   ]
  },
  {
   "cell_type": "code",
   "execution_count": 18,
   "id": "31c615cb",
   "metadata": {},
   "outputs": [
    {
     "data": {
      "text/plain": [
       "True"
      ]
     },
     "execution_count": 18,
     "metadata": {},
     "output_type": "execute_result"
    }
   ],
   "source": [
    "# Save the model\n",
    "model_helper.save_model(model, \"text_classification_model_final\")"
   ]
  },
  {
   "cell_type": "code",
   "execution_count": 19,
   "id": "fd60098c",
   "metadata": {},
   "outputs": [
    {
     "name": "stdout",
     "output_type": "stream",
     "text": [
      "[[ 7.80787226e-03 -1.44529101e-02  6.46416657e-03 -2.56793778e-02\n",
      "  -9.65327770e-02  8.58551264e-02  6.98081851e-02  3.99074750e-03\n",
      "  -8.74180570e-02  2.87988335e-02  2.87528727e-02  1.01409759e-02\n",
      "   2.93969940e-02 -8.59811455e-02 -3.12866382e-02  7.26936907e-02\n",
      "   4.58129589e-03  8.62117037e-02  2.10175640e-03  1.01940036e-01\n",
      "   7.18424097e-02  4.75918641e-03 -9.46420259e-05  5.05877808e-02\n",
      "   1.56101629e-01  4.36919220e-02 -1.51563473e-02  2.40390049e-03\n",
      "  -1.58895105e-02 -2.51775850e-02 -1.06737934e-01  7.07412958e-02\n",
      "   4.94895168e-02  3.08563840e-02  2.91129928e-02 -3.40982378e-02\n",
      "   1.11657195e-01  4.70892899e-02 -6.71625277e-03  2.94581447e-02\n",
      "  -4.25266549e-02 -3.54633806e-03 -1.84288379e-02 -1.99071355e-02\n",
      "  -8.40683207e-02 -8.74065906e-02  5.21774702e-02 -1.68545824e-02\n",
      "   4.58840616e-02  2.17433888e-02 -6.76908270e-02  4.28052247e-02\n",
      "  -4.56975438e-02 -2.15390194e-02  2.67212503e-02 -1.36472322e-02\n",
      "   5.95126441e-03  8.63851085e-02  2.10052934e-02 -1.97168700e-02\n",
      "   1.13615105e-02 -7.40882009e-02 -4.86826012e-03 -4.10203412e-02\n",
      "   4.74912152e-02  1.97790433e-02 -2.54844483e-02 -2.54539754e-02\n",
      "  -1.00875735e-01 -3.24559510e-02  7.74060562e-02  3.55644524e-02\n",
      "   3.60606313e-02 -4.41351309e-02 -4.15928885e-02 -2.54299343e-02\n",
      "   2.59144139e-02  9.97828692e-02  2.47023404e-02 -5.32052517e-02\n",
      "  -3.03913429e-02 -6.45044073e-02 -3.00089978e-02  3.04775089e-02\n",
      "   2.26590987e-02  3.11912205e-02 -3.30706500e-02 -8.55618436e-03\n",
      "   9.77698117e-02  5.59804076e-03 -3.21980864e-02 -3.08516324e-02\n",
      "   5.29674143e-02 -8.34086823e-05 -1.36827663e-01 -5.64747024e-04\n",
      "  -2.26151496e-02 -5.05981185e-02  7.29594827e-02  8.11562911e-02\n",
      "  -4.45732921e-02  7.35438764e-02  7.91888759e-02 -8.04397278e-03\n",
      "   5.64965159e-02 -1.33524463e-02  8.16367567e-02  3.63839529e-02\n",
      "  -2.52702963e-02 -4.30325978e-03  6.32501990e-02 -1.81358363e-02\n",
      "  -4.86677624e-02  2.52715070e-02  1.24649191e-02 -7.28349909e-02\n",
      "   5.06964549e-02 -4.06837873e-02 -5.03949262e-02 -4.21512686e-02\n",
      "  -2.28827819e-03 -4.10881154e-02 -8.70721862e-02 -2.78281327e-02\n",
      "  -8.98409262e-03  2.32614242e-02 -3.11366711e-02  8.48703321e-33\n",
      "  -8.69432744e-03 -1.00875879e-02  1.03917487e-01  8.03878754e-02\n",
      "  -1.09626204e-02  6.99294657e-02 -4.84222639e-03  3.21942121e-02\n",
      "   1.75167657e-02 -4.37184535e-02  2.85167247e-03  2.49363892e-02\n",
      "   1.45712746e-02 -3.53305861e-02  4.30736206e-02 -4.75503989e-02\n",
      "  -1.21541008e-01 -6.06756564e-03  3.28565352e-02  3.72108966e-02\n",
      "   3.75832692e-02  2.96558887e-02  2.65982398e-03 -6.02332838e-02\n",
      "  -5.89765161e-02 -4.31454778e-02  7.11720139e-02 -8.55362136e-03\n",
      "  -3.01105976e-02  4.97582182e-02  7.27541372e-02  8.29463731e-03\n",
      "   9.00040865e-02 -4.94954996e-02  8.43967684e-03  9.10961907e-03\n",
      "   2.64840964e-02 -3.22101861e-02 -5.68739511e-03 -2.53543686e-02\n",
      "  -3.66960242e-02 -6.19153827e-02 -6.33226056e-03  7.89630786e-02\n",
      "  -9.05002281e-02 -2.35932842e-02  6.15361333e-02  6.21903688e-03\n",
      "   7.59215578e-02  4.80186790e-02 -5.01365811e-02  4.01865467e-02\n",
      "  -6.12934977e-02 -3.53846848e-02 -5.31219877e-02 -2.22593397e-02\n",
      "  -1.19259150e-03  1.80793107e-02 -2.82184314e-03  4.22931835e-02\n",
      "   5.33000305e-02  1.44053353e-02  4.99451645e-02 -7.67345540e-03\n",
      "  -7.88567066e-02  2.75330730e-02 -2.45352089e-03 -3.71608650e-03\n",
      "   2.00694818e-02  4.64915968e-02  2.97160838e-02 -3.81348878e-02\n",
      "   3.62602738e-03  1.02467313e-01 -3.38630341e-02  1.05056562e-01\n",
      "   1.56934466e-02 -2.78142579e-02 -5.53613976e-02 -4.65551093e-02\n",
      "   3.94237190e-02 -6.87384382e-02  3.22860666e-02  1.29611706e-02\n",
      "   1.15911245e-01  5.07804565e-02  3.55973206e-02 -1.00378945e-01\n",
      "  -2.52623716e-03 -2.74653379e-02  6.18899986e-02 -1.49929300e-02\n",
      "   8.32444280e-02 -1.00433446e-01 -1.03428364e-01 -7.92628274e-33\n",
      "  -9.25231799e-02  1.24962712e-02  4.81628859e-03 -5.96378408e-02\n",
      "   2.04673037e-02 -5.11252098e-02 -3.43746855e-04 -1.37166798e-01\n",
      "  -4.27424237e-02  3.84778163e-04 -1.61481220e-02 -5.31370677e-02\n",
      "   2.19196267e-02  1.98029336e-02  3.09379883e-02 -2.81003607e-03\n",
      "   8.64957273e-02 -6.46618158e-02 -5.46987988e-02 -9.35491845e-02\n",
      "  -4.46291007e-02  6.14789538e-02 -3.29557844e-02  1.39616475e-01\n",
      "  -1.00271404e-01  4.38610502e-02 -3.61035950e-02  2.04758551e-02\n",
      "   1.65209081e-02  1.86031777e-02 -1.80724845e-03 -6.87238052e-02\n",
      "  -1.63898617e-02  2.13362593e-02 -9.16789621e-02 -3.75746153e-02\n",
      "  -3.14064510e-02 -1.03159651e-01  5.66424094e-02 -7.03755021e-02\n",
      "  -8.13022349e-03 -9.60854962e-02 -1.16997110e-02  9.56854131e-03\n",
      "  -1.98917929e-02 -2.14092806e-02 -7.08636343e-02  8.46203789e-03\n",
      "   8.36854707e-03 -2.76264306e-02  3.19928937e-02  1.02515578e-01\n",
      "  -7.14283139e-02  9.92311686e-02 -5.03785675e-03  3.38161588e-02\n",
      "   4.24031280e-02 -7.34070735e-03  5.15478775e-02  6.04495555e-02\n",
      "  -8.16773251e-02  1.88765395e-02  1.89337246e-02  3.69185470e-02\n",
      "   3.22232768e-02 -6.15826473e-02 -5.19961538e-03 -1.26098067e-01\n",
      "  -2.40174271e-02 -2.89024469e-02 -5.81592275e-03  4.03790213e-02\n",
      "  -5.34722209e-02  4.60682362e-02 -8.89129490e-02  8.24407339e-02\n",
      "  -4.24356163e-02  4.70483163e-03 -2.38838065e-02 -1.53547199e-02\n",
      "   3.30893919e-02 -4.57459576e-02  1.70112234e-02 -1.19330455e-02\n",
      "  -6.60376549e-02 -1.77703798e-02  6.61386102e-02 -7.67567456e-02\n",
      "  -2.86203176e-02 -6.04656176e-04 -1.81209501e-02  1.66584528e-03\n",
      "   1.09622329e-02  1.51795037e-02  2.28626828e-04 -3.71085704e-08\n",
      "  -8.31350312e-03  1.25016682e-04 -3.03429868e-02  3.35219726e-02\n",
      "   2.27205958e-02 -7.73109961e-03 -5.43748811e-02  9.38130617e-02\n",
      "  -7.66238431e-03 -2.23432970e-03  2.29964182e-02  1.70469005e-02\n",
      "   1.98515188e-02  7.60079548e-02  9.42344218e-03 -1.84741374e-02\n",
      "   1.53545458e-02 -4.04079556e-02 -7.06517994e-02 -1.04121761e-02\n",
      "  -3.86156142e-02 -1.02596246e-02 -6.82087941e-03  5.96759059e-02\n",
      "   2.55044326e-02  2.85396110e-02 -1.65744852e-02  1.79695711e-01\n",
      "   7.88444728e-02 -4.65118960e-02  1.28748594e-03  1.71071049e-02\n",
      "  -6.08967803e-02  2.65733735e-03 -6.12266026e-02  2.37626825e-02\n",
      "  -9.90859000e-04  1.52336806e-02 -4.84543331e-02  2.00082306e-02\n",
      "   2.95267347e-02  3.06238746e-03 -6.40542209e-02  9.03525427e-02\n",
      "  -1.31257391e-02 -1.23560736e-02 -3.45346220e-02 -2.76839752e-02\n",
      "   7.02797342e-03 -1.00114092e-01  2.35807020e-02  3.11898533e-02\n",
      "   4.04712670e-02 -1.01443855e-02  1.20102083e-02 -4.17667180e-02\n",
      "  -9.32373852e-02 -1.76479551e-03 -1.47410892e-02  1.11326344e-01\n",
      "   3.44986073e-03 -1.91769451e-02  1.15963249e-02 -2.95077339e-02]]\n",
      "1/1 [==============================] - 0s 244ms/step\n",
      "[[0.34176767 0.42038324 0.23784912]]\n"
     ]
    }
   ],
   "source": [
    "# Load the saved model\n",
    "loaded_model = model_helper.load_model(\"text_classification_model_final\")\n",
    "test_string = 'Barbara Buono by the numbers: As a Trenton politician, she voted to raise taxes 154 times. Under her, property taxes up 70 percent. Backed a 16 percent sales tax increase. Utilities, nursing homes, cell phones, parking lots, lottery wins, gyms She taxed them all. Architect of Corzines budget, she drove New Jersey $2 billion into debt. Barbara Buono by the numbers: taking New Jersey backwards.'\n",
    "print(model_helper.preprocess_text(test_string))\n",
    "prediction = loaded_model.predict(model_helper.preprocess_text(test_string))\n",
    "print(prediction)"
   ]
  },
  {
   "cell_type": "code",
   "execution_count": 20,
   "id": "f863c30d",
   "metadata": {},
   "outputs": [
    {
     "name": "stdout",
     "output_type": "stream",
     "text": [
      "<_PrefetchDataset element_spec=(TensorSpec(shape=(None, 384), dtype=tf.float32, name=None), TensorSpec(shape=(None, 3), dtype=tf.float32, name=None))>\n",
      "41/41 [==============================] - 0s 6ms/step\n",
      "\n",
      "Sample predictions:\n",
      "Example 1:\n",
      "Predicted probabilities: [0.3570472  0.4038366  0.23911619]\n",
      "Predicted class: 1\n",
      "Actual class: 1\n",
      "\n",
      "Example 2:\n",
      "Predicted probabilities: [0.34122136 0.43701842 0.22176017]\n",
      "Predicted class: 1\n",
      "Actual class: 1\n",
      "\n",
      "Example 3:\n",
      "Predicted probabilities: [0.36101022 0.4134809  0.22550887]\n",
      "Predicted class: 1\n",
      "Actual class: 0\n",
      "\n",
      "Example 4:\n",
      "Predicted probabilities: [0.36158305 0.46108446 0.1773325 ]\n",
      "Predicted class: 1\n",
      "Actual class: 1\n",
      "\n",
      "Example 5:\n",
      "Predicted probabilities: [0.3680866  0.45726585 0.1746476 ]\n",
      "Predicted class: 1\n",
      "Actual class: 0\n",
      "\n"
     ]
    }
   ],
   "source": [
    "# Make predictions on test dataset\n",
    "print(test_dataset)\n",
    "predictions = loaded_model.predict(test_dataset)\n",
    "# Convert predictions to class labels\n",
    "predicted_classes = np.argmax(predictions, axis=1)\n",
    "\n",
    "# Print sample predictions\n",
    "print(\"\\nSample predictions:\")\n",
    "for i in range(5):\n",
    "    print(f\"Example {i+1}:\")\n",
    "    print(f\"Predicted probabilities: {predictions[i]}\")\n",
    "    print(f\"Predicted class: {predicted_classes[i]}\")\n",
    "    print(f\"Actual class: {np.argmax(test_labels[i])}\\n\")\n"
   ]
  },
  {
   "cell_type": "code",
   "execution_count": 21,
   "id": "0d7dad74",
   "metadata": {},
   "outputs": [
    {
     "name": "stdout",
     "output_type": "stream",
     "text": [
      "['text_classification_model', 'text_classification_model_final', 'text_classification_model_fourcol', 'text_classification_model_fourcol_b', 'text_classification_model_threecol', 'text_classification_model_threecolB']\n"
     ]
    }
   ],
   "source": [
    "models_list = model_helper.list_models()\n",
    "print(models_list)"
   ]
  }
 ],
 "metadata": {
  "kernelspec": {
   "display_name": "dev",
   "language": "python",
   "name": "python3"
  },
  "language_info": {
   "codemirror_mode": {
    "name": "ipython",
    "version": 3
   },
   "file_extension": ".py",
   "mimetype": "text/x-python",
   "name": "python",
   "nbconvert_exporter": "python",
   "pygments_lexer": "ipython3",
   "version": "3.10.15"
  }
 },
 "nbformat": 4,
 "nbformat_minor": 5
}
