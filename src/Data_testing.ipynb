{
 "cells": [
  {
   "cell_type": "code",
   "execution_count": 1,
   "id": "1f97d2ab",
   "metadata": {},
   "outputs": [],
   "source": [
    "from main import DataImporter\n",
    "from models.modelhelper import ModelHelper\n",
    "import numpy as np\n",
    "\n",
    "data_importer = DataImporter()\n",
    "data_importer.import_data()\n",
    "\n",
    "ds_train = data_importer.get_train_data()\n",
    "ds_test = data_importer.get_test_data()\n",
    "ds_validation = data_importer.get_validation_data()"
   ]
  },
  {
   "cell_type": "code",
   "execution_count": 2,
   "id": "bb019e47",
   "metadata": {},
   "outputs": [
    {
     "name": "stdout",
     "output_type": "stream",
     "text": [
      "<class 'pandas.core.frame.DataFrame'>\n",
      "RangeIndex: 10269 entries, 0 to 10268\n",
      "Data columns (total 14 columns):\n",
      " #   Column                Non-Null Count  Dtype  \n",
      "---  ------                --------------  -----  \n",
      " 0   id                    10269 non-null  object \n",
      " 1   label                 10269 non-null  int64  \n",
      " 2   statement             10269 non-null  object \n",
      " 3   subject               10269 non-null  object \n",
      " 4   speaker               10269 non-null  object \n",
      " 5   job_title             10269 non-null  object \n",
      " 6   state_info            10269 non-null  object \n",
      " 7   party_affiliation     10269 non-null  object \n",
      " 8   barely_true_counts    10269 non-null  float32\n",
      " 9   false_counts          10269 non-null  float32\n",
      " 10  half_true_counts      10269 non-null  float32\n",
      " 11  mostly_true_counts    10269 non-null  float32\n",
      " 12  pants_on_fire_counts  10269 non-null  float32\n",
      " 13  context               10269 non-null  object \n",
      "dtypes: float32(5), int64(1), object(8)\n",
      "memory usage: 922.7+ KB\n",
      "\n",
      "\n",
      "<class 'pandas.core.frame.DataFrame'>\n",
      "RangeIndex: 1283 entries, 0 to 1282\n",
      "Data columns (total 14 columns):\n",
      " #   Column                Non-Null Count  Dtype  \n",
      "---  ------                --------------  -----  \n",
      " 0   id                    1283 non-null   object \n",
      " 1   label                 1283 non-null   int64  \n",
      " 2   statement             1283 non-null   object \n",
      " 3   subject               1283 non-null   object \n",
      " 4   speaker               1283 non-null   object \n",
      " 5   job_title             1283 non-null   object \n",
      " 6   state_info            1283 non-null   object \n",
      " 7   party_affiliation     1283 non-null   object \n",
      " 8   barely_true_counts    1283 non-null   float32\n",
      " 9   false_counts          1283 non-null   float32\n",
      " 10  half_true_counts      1283 non-null   float32\n",
      " 11  mostly_true_counts    1283 non-null   float32\n",
      " 12  pants_on_fire_counts  1283 non-null   float32\n",
      " 13  context               1283 non-null   object \n",
      "dtypes: float32(5), int64(1), object(8)\n",
      "memory usage: 115.4+ KB\n",
      "\n",
      "\n",
      "<class 'pandas.core.frame.DataFrame'>\n",
      "RangeIndex: 1284 entries, 0 to 1283\n",
      "Data columns (total 14 columns):\n",
      " #   Column                Non-Null Count  Dtype  \n",
      "---  ------                --------------  -----  \n",
      " 0   id                    1284 non-null   object \n",
      " 1   label                 1284 non-null   int64  \n",
      " 2   statement             1284 non-null   object \n",
      " 3   subject               1284 non-null   object \n",
      " 4   speaker               1284 non-null   object \n",
      " 5   job_title             1284 non-null   object \n",
      " 6   state_info            1284 non-null   object \n",
      " 7   party_affiliation     1284 non-null   object \n",
      " 8   barely_true_counts    1284 non-null   float32\n",
      " 9   false_counts          1284 non-null   float32\n",
      " 10  half_true_counts      1284 non-null   float32\n",
      " 11  mostly_true_counts    1284 non-null   float32\n",
      " 12  pants_on_fire_counts  1284 non-null   float32\n",
      " 13  context               1284 non-null   object \n",
      "dtypes: float32(5), int64(1), object(8)\n",
      "memory usage: 115.5+ KB\n",
      "\n",
      "\n"
     ]
    }
   ],
   "source": [
    "ds_train.info()\n",
    "print('\\n')\n",
    "ds_test.info()\n",
    "print('\\n')\n",
    "ds_validation.info()\n",
    "print('\\n')"
   ]
  },
  {
   "cell_type": "code",
   "execution_count": 3,
   "id": "494a3968",
   "metadata": {},
   "outputs": [
    {
     "name": "stdout",
     "output_type": "stream",
     "text": [
      "Training Dataset:\n"
     ]
    },
    {
     "data": {
      "application/vnd.microsoft.datawrangler.viewer.v0+json": {
       "columns": [
        {
         "name": "index",
         "rawType": "int64",
         "type": "integer"
        },
        {
         "name": "label",
         "rawType": "int64",
         "type": "integer"
        },
        {
         "name": "statement",
         "rawType": "object",
         "type": "string"
        },
        {
         "name": "barely_true_counts",
         "rawType": "float32",
         "type": "float"
        },
        {
         "name": "false_counts",
         "rawType": "float32",
         "type": "float"
        },
        {
         "name": "half_true_counts",
         "rawType": "float32",
         "type": "float"
        },
        {
         "name": "mostly_true_counts",
         "rawType": "float32",
         "type": "float"
        },
        {
         "name": "pants_on_fire_counts",
         "rawType": "float32",
         "type": "float"
        }
       ],
       "conversionMethod": "pd.DataFrame",
       "ref": "e3be01e8-57c5-4f0e-8ff2-dd66b9f07b30",
       "rows": [
        [
         "0",
         "0",
         "Says the Annies List political group supports third-trimester abortions on demand.",
         "0.0",
         "1.0",
         "0.0",
         "0.0",
         "0.0"
        ],
        [
         "1",
         "1",
         "When did the decline of coal start? It started when natural gas took off that started to begin in (President George W.) Bushs administration.",
         "0.0",
         "0.0",
         "1.0",
         "1.0",
         "0.0"
        ],
        [
         "2",
         "2",
         "Hillary Clinton agrees with John McCain \"by voting to give George Bush the benefit of the doubt on Iran.\"",
         "70.0",
         "71.0",
         "160.0",
         "163.0",
         "9.0"
        ],
        [
         "3",
         "0",
         "Health care reform legislation is likely to mandate free sex change surgeries.",
         "7.0",
         "19.0",
         "3.0",
         "5.0",
         "44.0"
        ],
        [
         "4",
         "1",
         "The economic turnaround started at the end of my term.",
         "15.0",
         "9.0",
         "20.0",
         "19.0",
         "2.0"
        ]
       ],
       "shape": {
        "columns": 7,
        "rows": 5
       }
      },
      "text/html": [
       "<div>\n",
       "<style scoped>\n",
       "    .dataframe tbody tr th:only-of-type {\n",
       "        vertical-align: middle;\n",
       "    }\n",
       "\n",
       "    .dataframe tbody tr th {\n",
       "        vertical-align: top;\n",
       "    }\n",
       "\n",
       "    .dataframe thead th {\n",
       "        text-align: right;\n",
       "    }\n",
       "</style>\n",
       "<table border=\"1\" class=\"dataframe\">\n",
       "  <thead>\n",
       "    <tr style=\"text-align: right;\">\n",
       "      <th></th>\n",
       "      <th>label</th>\n",
       "      <th>statement</th>\n",
       "      <th>barely_true_counts</th>\n",
       "      <th>false_counts</th>\n",
       "      <th>half_true_counts</th>\n",
       "      <th>mostly_true_counts</th>\n",
       "      <th>pants_on_fire_counts</th>\n",
       "    </tr>\n",
       "  </thead>\n",
       "  <tbody>\n",
       "    <tr>\n",
       "      <th>0</th>\n",
       "      <td>0</td>\n",
       "      <td>Says the Annies List political group supports ...</td>\n",
       "      <td>0.0</td>\n",
       "      <td>1.0</td>\n",
       "      <td>0.0</td>\n",
       "      <td>0.0</td>\n",
       "      <td>0.0</td>\n",
       "    </tr>\n",
       "    <tr>\n",
       "      <th>1</th>\n",
       "      <td>1</td>\n",
       "      <td>When did the decline of coal start? It started...</td>\n",
       "      <td>0.0</td>\n",
       "      <td>0.0</td>\n",
       "      <td>1.0</td>\n",
       "      <td>1.0</td>\n",
       "      <td>0.0</td>\n",
       "    </tr>\n",
       "    <tr>\n",
       "      <th>2</th>\n",
       "      <td>2</td>\n",
       "      <td>Hillary Clinton agrees with John McCain \"by vo...</td>\n",
       "      <td>70.0</td>\n",
       "      <td>71.0</td>\n",
       "      <td>160.0</td>\n",
       "      <td>163.0</td>\n",
       "      <td>9.0</td>\n",
       "    </tr>\n",
       "    <tr>\n",
       "      <th>3</th>\n",
       "      <td>0</td>\n",
       "      <td>Health care reform legislation is likely to ma...</td>\n",
       "      <td>7.0</td>\n",
       "      <td>19.0</td>\n",
       "      <td>3.0</td>\n",
       "      <td>5.0</td>\n",
       "      <td>44.0</td>\n",
       "    </tr>\n",
       "    <tr>\n",
       "      <th>4</th>\n",
       "      <td>1</td>\n",
       "      <td>The economic turnaround started at the end of ...</td>\n",
       "      <td>15.0</td>\n",
       "      <td>9.0</td>\n",
       "      <td>20.0</td>\n",
       "      <td>19.0</td>\n",
       "      <td>2.0</td>\n",
       "    </tr>\n",
       "  </tbody>\n",
       "</table>\n",
       "</div>"
      ],
      "text/plain": [
       "   label                                          statement  \\\n",
       "0      0  Says the Annies List political group supports ...   \n",
       "1      1  When did the decline of coal start? It started...   \n",
       "2      2  Hillary Clinton agrees with John McCain \"by vo...   \n",
       "3      0  Health care reform legislation is likely to ma...   \n",
       "4      1  The economic turnaround started at the end of ...   \n",
       "\n",
       "   barely_true_counts  false_counts  half_true_counts  mostly_true_counts  \\\n",
       "0                 0.0           1.0               0.0                 0.0   \n",
       "1                 0.0           0.0               1.0                 1.0   \n",
       "2                70.0          71.0             160.0               163.0   \n",
       "3                 7.0          19.0               3.0                 5.0   \n",
       "4                15.0           9.0              20.0                19.0   \n",
       "\n",
       "   pants_on_fire_counts  \n",
       "0                   0.0  \n",
       "1                   0.0  \n",
       "2                   9.0  \n",
       "3                  44.0  \n",
       "4                   2.0  "
      ]
     },
     "metadata": {},
     "output_type": "display_data"
    },
    {
     "name": "stdout",
     "output_type": "stream",
     "text": [
      "\n",
      "Test Dataset:\n"
     ]
    },
    {
     "data": {
      "application/vnd.microsoft.datawrangler.viewer.v0+json": {
       "columns": [
        {
         "name": "index",
         "rawType": "int64",
         "type": "integer"
        },
        {
         "name": "label",
         "rawType": "int64",
         "type": "integer"
        },
        {
         "name": "statement",
         "rawType": "object",
         "type": "string"
        },
        {
         "name": "barely_true_counts",
         "rawType": "float32",
         "type": "float"
        },
        {
         "name": "false_counts",
         "rawType": "float32",
         "type": "float"
        },
        {
         "name": "half_true_counts",
         "rawType": "float32",
         "type": "float"
        },
        {
         "name": "mostly_true_counts",
         "rawType": "float32",
         "type": "float"
        },
        {
         "name": "pants_on_fire_counts",
         "rawType": "float32",
         "type": "float"
        }
       ],
       "conversionMethod": "pd.DataFrame",
       "ref": "9bb866dc-e0dd-4fb2-82f4-5b7e2dc57700",
       "rows": [
        [
         "0",
         "3",
         "Building a wall on the U.S.-Mexico border will take literally years.",
         "30.0",
         "30.0",
         "42.0",
         "23.0",
         "18.0"
        ],
        [
         "1",
         "0",
         "Wisconsin is on pace to double the number of layoffs this year.",
         "2.0",
         "1.0",
         "0.0",
         "0.0",
         "0.0"
        ],
        [
         "2",
         "0",
         "Says John McCain has done nothing to help the vets.",
         "63.0",
         "114.0",
         "51.0",
         "37.0",
         "61.0"
        ],
        [
         "3",
         "1",
         "Suzanne Bonamici supports a plan that will cut choice for Medicare Advantage seniors.",
         "1.0",
         "1.0",
         "3.0",
         "1.0",
         "1.0"
        ],
        [
         "4",
         "5",
         "When asked by a reporter whether hes at the center of a criminal scheme to violate campaign laws, Gov. Scott Walker nodded yes.",
         "5.0",
         "7.0",
         "2.0",
         "2.0",
         "7.0"
        ]
       ],
       "shape": {
        "columns": 7,
        "rows": 5
       }
      },
      "text/html": [
       "<div>\n",
       "<style scoped>\n",
       "    .dataframe tbody tr th:only-of-type {\n",
       "        vertical-align: middle;\n",
       "    }\n",
       "\n",
       "    .dataframe tbody tr th {\n",
       "        vertical-align: top;\n",
       "    }\n",
       "\n",
       "    .dataframe thead th {\n",
       "        text-align: right;\n",
       "    }\n",
       "</style>\n",
       "<table border=\"1\" class=\"dataframe\">\n",
       "  <thead>\n",
       "    <tr style=\"text-align: right;\">\n",
       "      <th></th>\n",
       "      <th>label</th>\n",
       "      <th>statement</th>\n",
       "      <th>barely_true_counts</th>\n",
       "      <th>false_counts</th>\n",
       "      <th>half_true_counts</th>\n",
       "      <th>mostly_true_counts</th>\n",
       "      <th>pants_on_fire_counts</th>\n",
       "    </tr>\n",
       "  </thead>\n",
       "  <tbody>\n",
       "    <tr>\n",
       "      <th>0</th>\n",
       "      <td>3</td>\n",
       "      <td>Building a wall on the U.S.-Mexico border will...</td>\n",
       "      <td>30.0</td>\n",
       "      <td>30.0</td>\n",
       "      <td>42.0</td>\n",
       "      <td>23.0</td>\n",
       "      <td>18.0</td>\n",
       "    </tr>\n",
       "    <tr>\n",
       "      <th>1</th>\n",
       "      <td>0</td>\n",
       "      <td>Wisconsin is on pace to double the number of l...</td>\n",
       "      <td>2.0</td>\n",
       "      <td>1.0</td>\n",
       "      <td>0.0</td>\n",
       "      <td>0.0</td>\n",
       "      <td>0.0</td>\n",
       "    </tr>\n",
       "    <tr>\n",
       "      <th>2</th>\n",
       "      <td>0</td>\n",
       "      <td>Says John McCain has done nothing to help the ...</td>\n",
       "      <td>63.0</td>\n",
       "      <td>114.0</td>\n",
       "      <td>51.0</td>\n",
       "      <td>37.0</td>\n",
       "      <td>61.0</td>\n",
       "    </tr>\n",
       "    <tr>\n",
       "      <th>3</th>\n",
       "      <td>1</td>\n",
       "      <td>Suzanne Bonamici supports a plan that will cut...</td>\n",
       "      <td>1.0</td>\n",
       "      <td>1.0</td>\n",
       "      <td>3.0</td>\n",
       "      <td>1.0</td>\n",
       "      <td>1.0</td>\n",
       "    </tr>\n",
       "    <tr>\n",
       "      <th>4</th>\n",
       "      <td>5</td>\n",
       "      <td>When asked by a reporter whether hes at the ce...</td>\n",
       "      <td>5.0</td>\n",
       "      <td>7.0</td>\n",
       "      <td>2.0</td>\n",
       "      <td>2.0</td>\n",
       "      <td>7.0</td>\n",
       "    </tr>\n",
       "  </tbody>\n",
       "</table>\n",
       "</div>"
      ],
      "text/plain": [
       "   label                                          statement  \\\n",
       "0      3  Building a wall on the U.S.-Mexico border will...   \n",
       "1      0  Wisconsin is on pace to double the number of l...   \n",
       "2      0  Says John McCain has done nothing to help the ...   \n",
       "3      1  Suzanne Bonamici supports a plan that will cut...   \n",
       "4      5  When asked by a reporter whether hes at the ce...   \n",
       "\n",
       "   barely_true_counts  false_counts  half_true_counts  mostly_true_counts  \\\n",
       "0                30.0          30.0              42.0                23.0   \n",
       "1                 2.0           1.0               0.0                 0.0   \n",
       "2                63.0         114.0              51.0                37.0   \n",
       "3                 1.0           1.0               3.0                 1.0   \n",
       "4                 5.0           7.0               2.0                 2.0   \n",
       "\n",
       "   pants_on_fire_counts  \n",
       "0                  18.0  \n",
       "1                   0.0  \n",
       "2                  61.0  \n",
       "3                   1.0  \n",
       "4                   7.0  "
      ]
     },
     "metadata": {},
     "output_type": "display_data"
    },
    {
     "name": "stdout",
     "output_type": "stream",
     "text": [
      "\n",
      "Validation Dataset:\n"
     ]
    },
    {
     "data": {
      "application/vnd.microsoft.datawrangler.viewer.v0+json": {
       "columns": [
        {
         "name": "index",
         "rawType": "int64",
         "type": "integer"
        },
        {
         "name": "label",
         "rawType": "int64",
         "type": "integer"
        },
        {
         "name": "statement",
         "rawType": "object",
         "type": "string"
        },
        {
         "name": "barely_true_counts",
         "rawType": "float32",
         "type": "float"
        },
        {
         "name": "false_counts",
         "rawType": "float32",
         "type": "float"
        },
        {
         "name": "half_true_counts",
         "rawType": "float32",
         "type": "float"
        },
        {
         "name": "mostly_true_counts",
         "rawType": "float32",
         "type": "float"
        },
        {
         "name": "pants_on_fire_counts",
         "rawType": "float32",
         "type": "float"
        }
       ],
       "conversionMethod": "pd.DataFrame",
       "ref": "17d5e32d-6598-4b81-98d0-ecc9d7eb2907",
       "rows": [
        [
         "0",
         "4",
         "We have less Americans working now than in the 70s.",
         "1.0",
         "0.0",
         "1.0",
         "0.0",
         "0.0"
        ],
        [
         "1",
         "5",
         "When Obama was sworn into office, he DID NOT use the Holy Bible, but instead the Kuran (Their equivalency to our Bible, but very different beliefs).",
         "11.0",
         "43.0",
         "8.0",
         "5.0",
         "105.0"
        ],
        [
         "2",
         "0",
         "Says Having organizations parading as being social welfare organizations and then being involved in the political combat harkens back to why the statute a hundred years ago said that they were prohibited.",
         "0.0",
         "1.0",
         "1.0",
         "1.0",
         "0.0"
        ],
        [
         "3",
         "1",
         "Says nearly half of Oregons children are poor.",
         "0.0",
         "1.0",
         "1.0",
         "1.0",
         "0.0"
        ],
        [
         "4",
         "1",
         "On attacks by Republicans that various programs in the economic stimulus plan are not stimulative, \"If you add all that stuff up, it accounts for less than 1 percent of the overall package.\"",
         "70.0",
         "71.0",
         "160.0",
         "163.0",
         "9.0"
        ]
       ],
       "shape": {
        "columns": 7,
        "rows": 5
       }
      },
      "text/html": [
       "<div>\n",
       "<style scoped>\n",
       "    .dataframe tbody tr th:only-of-type {\n",
       "        vertical-align: middle;\n",
       "    }\n",
       "\n",
       "    .dataframe tbody tr th {\n",
       "        vertical-align: top;\n",
       "    }\n",
       "\n",
       "    .dataframe thead th {\n",
       "        text-align: right;\n",
       "    }\n",
       "</style>\n",
       "<table border=\"1\" class=\"dataframe\">\n",
       "  <thead>\n",
       "    <tr style=\"text-align: right;\">\n",
       "      <th></th>\n",
       "      <th>label</th>\n",
       "      <th>statement</th>\n",
       "      <th>barely_true_counts</th>\n",
       "      <th>false_counts</th>\n",
       "      <th>half_true_counts</th>\n",
       "      <th>mostly_true_counts</th>\n",
       "      <th>pants_on_fire_counts</th>\n",
       "    </tr>\n",
       "  </thead>\n",
       "  <tbody>\n",
       "    <tr>\n",
       "      <th>0</th>\n",
       "      <td>4</td>\n",
       "      <td>We have less Americans working now than in the...</td>\n",
       "      <td>1.0</td>\n",
       "      <td>0.0</td>\n",
       "      <td>1.0</td>\n",
       "      <td>0.0</td>\n",
       "      <td>0.0</td>\n",
       "    </tr>\n",
       "    <tr>\n",
       "      <th>1</th>\n",
       "      <td>5</td>\n",
       "      <td>When Obama was sworn into office, he DID NOT u...</td>\n",
       "      <td>11.0</td>\n",
       "      <td>43.0</td>\n",
       "      <td>8.0</td>\n",
       "      <td>5.0</td>\n",
       "      <td>105.0</td>\n",
       "    </tr>\n",
       "    <tr>\n",
       "      <th>2</th>\n",
       "      <td>0</td>\n",
       "      <td>Says Having organizations parading as being so...</td>\n",
       "      <td>0.0</td>\n",
       "      <td>1.0</td>\n",
       "      <td>1.0</td>\n",
       "      <td>1.0</td>\n",
       "      <td>0.0</td>\n",
       "    </tr>\n",
       "    <tr>\n",
       "      <th>3</th>\n",
       "      <td>1</td>\n",
       "      <td>Says nearly half of Oregons children are poor.</td>\n",
       "      <td>0.0</td>\n",
       "      <td>1.0</td>\n",
       "      <td>1.0</td>\n",
       "      <td>1.0</td>\n",
       "      <td>0.0</td>\n",
       "    </tr>\n",
       "    <tr>\n",
       "      <th>4</th>\n",
       "      <td>1</td>\n",
       "      <td>On attacks by Republicans that various program...</td>\n",
       "      <td>70.0</td>\n",
       "      <td>71.0</td>\n",
       "      <td>160.0</td>\n",
       "      <td>163.0</td>\n",
       "      <td>9.0</td>\n",
       "    </tr>\n",
       "  </tbody>\n",
       "</table>\n",
       "</div>"
      ],
      "text/plain": [
       "   label                                          statement  \\\n",
       "0      4  We have less Americans working now than in the...   \n",
       "1      5  When Obama was sworn into office, he DID NOT u...   \n",
       "2      0  Says Having organizations parading as being so...   \n",
       "3      1     Says nearly half of Oregons children are poor.   \n",
       "4      1  On attacks by Republicans that various program...   \n",
       "\n",
       "   barely_true_counts  false_counts  half_true_counts  mostly_true_counts  \\\n",
       "0                 1.0           0.0               1.0                 0.0   \n",
       "1                11.0          43.0               8.0                 5.0   \n",
       "2                 0.0           1.0               1.0                 1.0   \n",
       "3                 0.0           1.0               1.0                 1.0   \n",
       "4                70.0          71.0             160.0               163.0   \n",
       "\n",
       "   pants_on_fire_counts  \n",
       "0                   0.0  \n",
       "1                 105.0  \n",
       "2                   0.0  \n",
       "3                   0.0  \n",
       "4                   9.0  "
      ]
     },
     "metadata": {},
     "output_type": "display_data"
    }
   ],
   "source": [
    "# Drop specified columns from each dataset\n",
    "columns_to_drop = ['id', 'subject', 'speaker', 'job_title', 'state_info', 'party_affiliation', 'context']\n",
    "\n",
    "ds_train = ds_train.drop(columns=columns_to_drop)\n",
    "ds_test = ds_test.drop(columns=columns_to_drop) \n",
    "ds_validation = ds_validation.drop(columns=columns_to_drop)\n",
    "\n",
    "# Display results\n",
    "print(\"Training Dataset:\")\n",
    "display(ds_train.head())\n",
    "print(\"\\nTest Dataset:\") \n",
    "display(ds_test.head())\n",
    "print(\"\\nValidation Dataset:\")\n",
    "display(ds_validation.head())"
   ]
  },
  {
   "cell_type": "code",
   "execution_count": 4,
   "id": "1f5811c6",
   "metadata": {},
   "outputs": [],
   "source": [
    "def new_false(ds_train, ds_test, ds_validation):\n",
    "    \"\"\"\n",
    "    Combines the 'false_counts' and 'pants_on_fire_counts' columns into a single 'false_counts' column,\n",
    "    then drops the 'pants_on_fire_counts' column from each dataset.\n",
    "\n",
    "    Parameters:\n",
    "        ds_train (pd.DataFrame): Training dataset\n",
    "        ds_test (pd.DataFrame): Test dataset\n",
    "        ds_validation (pd.DataFrame): Validation dataset\n",
    "\n",
    "    Returns:\n",
    "        tuple: Updated (ds_train, ds_test, ds_validation) DataFrames\n",
    "    \"\"\"\n",
    "    for ds in [ds_train, ds_test, ds_validation]:\n",
    "        ds['false_counts'] = ds['false_counts'] + ds['pants_on_fire_counts']\n",
    "        ds.drop('pants_on_fire_counts', axis=1, inplace=True)\n",
    "    return ds_train, ds_test, ds_validation"
   ]
  },
  {
   "cell_type": "code",
   "execution_count": 5,
   "id": "8b15d0a8",
   "metadata": {},
   "outputs": [],
   "source": [
    "ds_train, ds_test, ds_validation = new_false(ds_train, ds_test, ds_validation)"
   ]
  },
  {
   "cell_type": "code",
   "execution_count": 6,
   "id": "56856f96",
   "metadata": {},
   "outputs": [
    {
     "name": "stdout",
     "output_type": "stream",
     "text": [
      "Training Dataset:\n"
     ]
    },
    {
     "data": {
      "application/vnd.microsoft.datawrangler.viewer.v0+json": {
       "columns": [
        {
         "name": "index",
         "rawType": "int64",
         "type": "integer"
        },
        {
         "name": "label",
         "rawType": "int64",
         "type": "integer"
        },
        {
         "name": "statement",
         "rawType": "object",
         "type": "string"
        },
        {
         "name": "barely_true_counts",
         "rawType": "float32",
         "type": "float"
        },
        {
         "name": "false_counts",
         "rawType": "float32",
         "type": "float"
        },
        {
         "name": "half_true_counts",
         "rawType": "float32",
         "type": "float"
        },
        {
         "name": "mostly_true_counts",
         "rawType": "float32",
         "type": "float"
        }
       ],
       "conversionMethod": "pd.DataFrame",
       "ref": "698eac46-c120-465a-9fa2-8a9ec54174f4",
       "rows": [
        [
         "0",
         "0",
         "Says the Annies List political group supports third-trimester abortions on demand.",
         "0.0",
         "1.0",
         "0.0",
         "0.0"
        ],
        [
         "1",
         "1",
         "When did the decline of coal start? It started when natural gas took off that started to begin in (President George W.) Bushs administration.",
         "0.0",
         "0.0",
         "1.0",
         "1.0"
        ],
        [
         "2",
         "2",
         "Hillary Clinton agrees with John McCain \"by voting to give George Bush the benefit of the doubt on Iran.\"",
         "70.0",
         "80.0",
         "160.0",
         "163.0"
        ],
        [
         "3",
         "0",
         "Health care reform legislation is likely to mandate free sex change surgeries.",
         "7.0",
         "63.0",
         "3.0",
         "5.0"
        ],
        [
         "4",
         "1",
         "The economic turnaround started at the end of my term.",
         "15.0",
         "11.0",
         "20.0",
         "19.0"
        ]
       ],
       "shape": {
        "columns": 6,
        "rows": 5
       }
      },
      "text/html": [
       "<div>\n",
       "<style scoped>\n",
       "    .dataframe tbody tr th:only-of-type {\n",
       "        vertical-align: middle;\n",
       "    }\n",
       "\n",
       "    .dataframe tbody tr th {\n",
       "        vertical-align: top;\n",
       "    }\n",
       "\n",
       "    .dataframe thead th {\n",
       "        text-align: right;\n",
       "    }\n",
       "</style>\n",
       "<table border=\"1\" class=\"dataframe\">\n",
       "  <thead>\n",
       "    <tr style=\"text-align: right;\">\n",
       "      <th></th>\n",
       "      <th>label</th>\n",
       "      <th>statement</th>\n",
       "      <th>barely_true_counts</th>\n",
       "      <th>false_counts</th>\n",
       "      <th>half_true_counts</th>\n",
       "      <th>mostly_true_counts</th>\n",
       "    </tr>\n",
       "  </thead>\n",
       "  <tbody>\n",
       "    <tr>\n",
       "      <th>0</th>\n",
       "      <td>0</td>\n",
       "      <td>Says the Annies List political group supports ...</td>\n",
       "      <td>0.0</td>\n",
       "      <td>1.0</td>\n",
       "      <td>0.0</td>\n",
       "      <td>0.0</td>\n",
       "    </tr>\n",
       "    <tr>\n",
       "      <th>1</th>\n",
       "      <td>1</td>\n",
       "      <td>When did the decline of coal start? It started...</td>\n",
       "      <td>0.0</td>\n",
       "      <td>0.0</td>\n",
       "      <td>1.0</td>\n",
       "      <td>1.0</td>\n",
       "    </tr>\n",
       "    <tr>\n",
       "      <th>2</th>\n",
       "      <td>2</td>\n",
       "      <td>Hillary Clinton agrees with John McCain \"by vo...</td>\n",
       "      <td>70.0</td>\n",
       "      <td>80.0</td>\n",
       "      <td>160.0</td>\n",
       "      <td>163.0</td>\n",
       "    </tr>\n",
       "    <tr>\n",
       "      <th>3</th>\n",
       "      <td>0</td>\n",
       "      <td>Health care reform legislation is likely to ma...</td>\n",
       "      <td>7.0</td>\n",
       "      <td>63.0</td>\n",
       "      <td>3.0</td>\n",
       "      <td>5.0</td>\n",
       "    </tr>\n",
       "    <tr>\n",
       "      <th>4</th>\n",
       "      <td>1</td>\n",
       "      <td>The economic turnaround started at the end of ...</td>\n",
       "      <td>15.0</td>\n",
       "      <td>11.0</td>\n",
       "      <td>20.0</td>\n",
       "      <td>19.0</td>\n",
       "    </tr>\n",
       "  </tbody>\n",
       "</table>\n",
       "</div>"
      ],
      "text/plain": [
       "   label                                          statement  \\\n",
       "0      0  Says the Annies List political group supports ...   \n",
       "1      1  When did the decline of coal start? It started...   \n",
       "2      2  Hillary Clinton agrees with John McCain \"by vo...   \n",
       "3      0  Health care reform legislation is likely to ma...   \n",
       "4      1  The economic turnaround started at the end of ...   \n",
       "\n",
       "   barely_true_counts  false_counts  half_true_counts  mostly_true_counts  \n",
       "0                 0.0           1.0               0.0                 0.0  \n",
       "1                 0.0           0.0               1.0                 1.0  \n",
       "2                70.0          80.0             160.0               163.0  \n",
       "3                 7.0          63.0               3.0                 5.0  \n",
       "4                15.0          11.0              20.0                19.0  "
      ]
     },
     "metadata": {},
     "output_type": "display_data"
    },
    {
     "name": "stdout",
     "output_type": "stream",
     "text": [
      "\n",
      "Test Dataset:\n"
     ]
    },
    {
     "data": {
      "application/vnd.microsoft.datawrangler.viewer.v0+json": {
       "columns": [
        {
         "name": "index",
         "rawType": "int64",
         "type": "integer"
        },
        {
         "name": "label",
         "rawType": "int64",
         "type": "integer"
        },
        {
         "name": "statement",
         "rawType": "object",
         "type": "string"
        },
        {
         "name": "barely_true_counts",
         "rawType": "float32",
         "type": "float"
        },
        {
         "name": "false_counts",
         "rawType": "float32",
         "type": "float"
        },
        {
         "name": "half_true_counts",
         "rawType": "float32",
         "type": "float"
        },
        {
         "name": "mostly_true_counts",
         "rawType": "float32",
         "type": "float"
        }
       ],
       "conversionMethod": "pd.DataFrame",
       "ref": "2cad74f3-7853-4595-b133-ae4ee363e3d2",
       "rows": [
        [
         "0",
         "3",
         "Building a wall on the U.S.-Mexico border will take literally years.",
         "30.0",
         "48.0",
         "42.0",
         "23.0"
        ],
        [
         "1",
         "0",
         "Wisconsin is on pace to double the number of layoffs this year.",
         "2.0",
         "1.0",
         "0.0",
         "0.0"
        ],
        [
         "2",
         "0",
         "Says John McCain has done nothing to help the vets.",
         "63.0",
         "175.0",
         "51.0",
         "37.0"
        ],
        [
         "3",
         "1",
         "Suzanne Bonamici supports a plan that will cut choice for Medicare Advantage seniors.",
         "1.0",
         "2.0",
         "3.0",
         "1.0"
        ],
        [
         "4",
         "5",
         "When asked by a reporter whether hes at the center of a criminal scheme to violate campaign laws, Gov. Scott Walker nodded yes.",
         "5.0",
         "14.0",
         "2.0",
         "2.0"
        ]
       ],
       "shape": {
        "columns": 6,
        "rows": 5
       }
      },
      "text/html": [
       "<div>\n",
       "<style scoped>\n",
       "    .dataframe tbody tr th:only-of-type {\n",
       "        vertical-align: middle;\n",
       "    }\n",
       "\n",
       "    .dataframe tbody tr th {\n",
       "        vertical-align: top;\n",
       "    }\n",
       "\n",
       "    .dataframe thead th {\n",
       "        text-align: right;\n",
       "    }\n",
       "</style>\n",
       "<table border=\"1\" class=\"dataframe\">\n",
       "  <thead>\n",
       "    <tr style=\"text-align: right;\">\n",
       "      <th></th>\n",
       "      <th>label</th>\n",
       "      <th>statement</th>\n",
       "      <th>barely_true_counts</th>\n",
       "      <th>false_counts</th>\n",
       "      <th>half_true_counts</th>\n",
       "      <th>mostly_true_counts</th>\n",
       "    </tr>\n",
       "  </thead>\n",
       "  <tbody>\n",
       "    <tr>\n",
       "      <th>0</th>\n",
       "      <td>3</td>\n",
       "      <td>Building a wall on the U.S.-Mexico border will...</td>\n",
       "      <td>30.0</td>\n",
       "      <td>48.0</td>\n",
       "      <td>42.0</td>\n",
       "      <td>23.0</td>\n",
       "    </tr>\n",
       "    <tr>\n",
       "      <th>1</th>\n",
       "      <td>0</td>\n",
       "      <td>Wisconsin is on pace to double the number of l...</td>\n",
       "      <td>2.0</td>\n",
       "      <td>1.0</td>\n",
       "      <td>0.0</td>\n",
       "      <td>0.0</td>\n",
       "    </tr>\n",
       "    <tr>\n",
       "      <th>2</th>\n",
       "      <td>0</td>\n",
       "      <td>Says John McCain has done nothing to help the ...</td>\n",
       "      <td>63.0</td>\n",
       "      <td>175.0</td>\n",
       "      <td>51.0</td>\n",
       "      <td>37.0</td>\n",
       "    </tr>\n",
       "    <tr>\n",
       "      <th>3</th>\n",
       "      <td>1</td>\n",
       "      <td>Suzanne Bonamici supports a plan that will cut...</td>\n",
       "      <td>1.0</td>\n",
       "      <td>2.0</td>\n",
       "      <td>3.0</td>\n",
       "      <td>1.0</td>\n",
       "    </tr>\n",
       "    <tr>\n",
       "      <th>4</th>\n",
       "      <td>5</td>\n",
       "      <td>When asked by a reporter whether hes at the ce...</td>\n",
       "      <td>5.0</td>\n",
       "      <td>14.0</td>\n",
       "      <td>2.0</td>\n",
       "      <td>2.0</td>\n",
       "    </tr>\n",
       "  </tbody>\n",
       "</table>\n",
       "</div>"
      ],
      "text/plain": [
       "   label                                          statement  \\\n",
       "0      3  Building a wall on the U.S.-Mexico border will...   \n",
       "1      0  Wisconsin is on pace to double the number of l...   \n",
       "2      0  Says John McCain has done nothing to help the ...   \n",
       "3      1  Suzanne Bonamici supports a plan that will cut...   \n",
       "4      5  When asked by a reporter whether hes at the ce...   \n",
       "\n",
       "   barely_true_counts  false_counts  half_true_counts  mostly_true_counts  \n",
       "0                30.0          48.0              42.0                23.0  \n",
       "1                 2.0           1.0               0.0                 0.0  \n",
       "2                63.0         175.0              51.0                37.0  \n",
       "3                 1.0           2.0               3.0                 1.0  \n",
       "4                 5.0          14.0               2.0                 2.0  "
      ]
     },
     "metadata": {},
     "output_type": "display_data"
    },
    {
     "name": "stdout",
     "output_type": "stream",
     "text": [
      "\n",
      "Validation Dataset:\n"
     ]
    },
    {
     "data": {
      "application/vnd.microsoft.datawrangler.viewer.v0+json": {
       "columns": [
        {
         "name": "index",
         "rawType": "int64",
         "type": "integer"
        },
        {
         "name": "label",
         "rawType": "int64",
         "type": "integer"
        },
        {
         "name": "statement",
         "rawType": "object",
         "type": "string"
        },
        {
         "name": "barely_true_counts",
         "rawType": "float32",
         "type": "float"
        },
        {
         "name": "false_counts",
         "rawType": "float32",
         "type": "float"
        },
        {
         "name": "half_true_counts",
         "rawType": "float32",
         "type": "float"
        },
        {
         "name": "mostly_true_counts",
         "rawType": "float32",
         "type": "float"
        }
       ],
       "conversionMethod": "pd.DataFrame",
       "ref": "31ba69c4-4cc2-4b41-9f0d-7d2d4f203ddf",
       "rows": [
        [
         "0",
         "4",
         "We have less Americans working now than in the 70s.",
         "1.0",
         "0.0",
         "1.0",
         "0.0"
        ],
        [
         "1",
         "5",
         "When Obama was sworn into office, he DID NOT use the Holy Bible, but instead the Kuran (Their equivalency to our Bible, but very different beliefs).",
         "11.0",
         "148.0",
         "8.0",
         "5.0"
        ],
        [
         "2",
         "0",
         "Says Having organizations parading as being social welfare organizations and then being involved in the political combat harkens back to why the statute a hundred years ago said that they were prohibited.",
         "0.0",
         "1.0",
         "1.0",
         "1.0"
        ],
        [
         "3",
         "1",
         "Says nearly half of Oregons children are poor.",
         "0.0",
         "1.0",
         "1.0",
         "1.0"
        ],
        [
         "4",
         "1",
         "On attacks by Republicans that various programs in the economic stimulus plan are not stimulative, \"If you add all that stuff up, it accounts for less than 1 percent of the overall package.\"",
         "70.0",
         "80.0",
         "160.0",
         "163.0"
        ]
       ],
       "shape": {
        "columns": 6,
        "rows": 5
       }
      },
      "text/html": [
       "<div>\n",
       "<style scoped>\n",
       "    .dataframe tbody tr th:only-of-type {\n",
       "        vertical-align: middle;\n",
       "    }\n",
       "\n",
       "    .dataframe tbody tr th {\n",
       "        vertical-align: top;\n",
       "    }\n",
       "\n",
       "    .dataframe thead th {\n",
       "        text-align: right;\n",
       "    }\n",
       "</style>\n",
       "<table border=\"1\" class=\"dataframe\">\n",
       "  <thead>\n",
       "    <tr style=\"text-align: right;\">\n",
       "      <th></th>\n",
       "      <th>label</th>\n",
       "      <th>statement</th>\n",
       "      <th>barely_true_counts</th>\n",
       "      <th>false_counts</th>\n",
       "      <th>half_true_counts</th>\n",
       "      <th>mostly_true_counts</th>\n",
       "    </tr>\n",
       "  </thead>\n",
       "  <tbody>\n",
       "    <tr>\n",
       "      <th>0</th>\n",
       "      <td>4</td>\n",
       "      <td>We have less Americans working now than in the...</td>\n",
       "      <td>1.0</td>\n",
       "      <td>0.0</td>\n",
       "      <td>1.0</td>\n",
       "      <td>0.0</td>\n",
       "    </tr>\n",
       "    <tr>\n",
       "      <th>1</th>\n",
       "      <td>5</td>\n",
       "      <td>When Obama was sworn into office, he DID NOT u...</td>\n",
       "      <td>11.0</td>\n",
       "      <td>148.0</td>\n",
       "      <td>8.0</td>\n",
       "      <td>5.0</td>\n",
       "    </tr>\n",
       "    <tr>\n",
       "      <th>2</th>\n",
       "      <td>0</td>\n",
       "      <td>Says Having organizations parading as being so...</td>\n",
       "      <td>0.0</td>\n",
       "      <td>1.0</td>\n",
       "      <td>1.0</td>\n",
       "      <td>1.0</td>\n",
       "    </tr>\n",
       "    <tr>\n",
       "      <th>3</th>\n",
       "      <td>1</td>\n",
       "      <td>Says nearly half of Oregons children are poor.</td>\n",
       "      <td>0.0</td>\n",
       "      <td>1.0</td>\n",
       "      <td>1.0</td>\n",
       "      <td>1.0</td>\n",
       "    </tr>\n",
       "    <tr>\n",
       "      <th>4</th>\n",
       "      <td>1</td>\n",
       "      <td>On attacks by Republicans that various program...</td>\n",
       "      <td>70.0</td>\n",
       "      <td>80.0</td>\n",
       "      <td>160.0</td>\n",
       "      <td>163.0</td>\n",
       "    </tr>\n",
       "  </tbody>\n",
       "</table>\n",
       "</div>"
      ],
      "text/plain": [
       "   label                                          statement  \\\n",
       "0      4  We have less Americans working now than in the...   \n",
       "1      5  When Obama was sworn into office, he DID NOT u...   \n",
       "2      0  Says Having organizations parading as being so...   \n",
       "3      1     Says nearly half of Oregons children are poor.   \n",
       "4      1  On attacks by Republicans that various program...   \n",
       "\n",
       "   barely_true_counts  false_counts  half_true_counts  mostly_true_counts  \n",
       "0                 1.0           0.0               1.0                 0.0  \n",
       "1                11.0         148.0               8.0                 5.0  \n",
       "2                 0.0           1.0               1.0                 1.0  \n",
       "3                 0.0           1.0               1.0                 1.0  \n",
       "4                70.0          80.0             160.0               163.0  "
      ]
     },
     "metadata": {},
     "output_type": "display_data"
    }
   ],
   "source": [
    "# Display results\n",
    "print(\"Training Dataset:\")\n",
    "display(ds_train.head())\n",
    "print(\"\\nTest Dataset:\") \n",
    "display(ds_test.head())\n",
    "print(\"\\nValidation Dataset:\")\n",
    "display(ds_validation.head())"
   ]
  },
  {
   "cell_type": "code",
   "execution_count": 7,
   "id": "2485608b",
   "metadata": {},
   "outputs": [
    {
     "name": "stdout",
     "output_type": "stream",
     "text": [
      "Longest statement (395 characters):\n",
      "Barbara Buono by the numbers: As a Trenton politician, she voted to raise taxes 154 times. Under her, property taxes up 70 percent. Backed a 16 percent sales tax increase. Utilities, nursing homes, cell phones, parking lots, lottery wins, gyms She taxed them all. Architect of Corzines budget, she drove New Jersey $2 billion into debt. Barbara Buono by the numbers: taking New Jersey backwards.\n",
      "Longest statement word count: 65\n",
      "Longest statement label: 2\n"
     ]
    }
   ],
   "source": [
    "# Find longest statement\n",
    "longest_statement = ds_train.loc[ds_train['statement'].str.len().idxmax(), 'statement']\n",
    "# Get the labels for the longest statement\n",
    "longest_statement_label = ds_train.loc[ds_train['statement'].str.len().idxmax(), 'label']\n",
    "\n",
    "# Get word count by splitting on whitespace and counting tokens\n",
    "word_count = len(longest_statement.split())\n",
    "\n",
    "\n",
    "print(f\"Longest statement ({len(longest_statement)} characters):\")\n",
    "print(longest_statement)\n",
    "print(f'Longest statement word count: {word_count}')\n",
    "print(f\"Longest statement label: {longest_statement_label}\")"
   ]
  },
  {
   "cell_type": "code",
   "execution_count": 8,
   "id": "976fb50e",
   "metadata": {},
   "outputs": [],
   "source": [
    "# Initialize ModelHelper\n",
    "model_helper = ModelHelper()"
   ]
  },
  {
   "cell_type": "code",
   "execution_count": 9,
   "id": "d8ce61bb",
   "metadata": {},
   "outputs": [],
   "source": [
    "#Create Vectorizer\n",
    "model_helper.create_vectorizer(ds_train['statement'], max_sequence_length=60)\n",
    "\n",
    "# Preprocess text data\n",
    "train_sequences = model_helper.preprocess_text(ds_train['statement'].tolist())\n",
    "test_sequences = model_helper.preprocess_text(ds_test['statement'].tolist())\n",
    "val_sequences = model_helper.preprocess_text(ds_validation['statement'].tolist())"
   ]
  },
  {
   "cell_type": "code",
   "execution_count": 10,
   "metadata": {},
   "outputs": [],
   "source": [
    "# Get truthfulness columns\n",
    "truthfulness_columns = model_helper.truthfulness_columns\n",
    "truthfulness_columns.remove('pants_on_fire_counts')"
   ]
  },
  {
   "cell_type": "code",
   "execution_count": 11,
   "metadata": {},
   "outputs": [],
   "source": [
    "# Get the raw count values for training\n",
    "train_labels = model_helper.normalize_counts(ds_train)\n",
    "test_labels = model_helper.normalize_counts(ds_test)\n",
    "val_labels = model_helper.normalize_counts(ds_validation)"
   ]
  },
  {
   "cell_type": "code",
   "execution_count": 12,
   "metadata": {},
   "outputs": [],
   "source": [
    "# Create text classification model\n",
    "vocab_size = 10000  # Matches max_tokens in preprocess_text\n",
    "embedding_dim = 100\n",
    "max_sequence_length = 200\n",
    "num_classes = len(truthfulness_columns)  # Number of truthfulness categories\n",
    "\n",
    "model = model_helper.create_text_classification_model(\n",
    "    vocab_size=vocab_size,\n",
    "    embedding_dim=embedding_dim, \n",
    "    max_sequence_length=max_sequence_length,\n",
    "    num_classes=num_classes\n",
    ")"
   ]
  },
  {
   "cell_type": "code",
   "execution_count": 13,
   "id": "14a74105",
   "metadata": {},
   "outputs": [],
   "source": [
    "# Prepare datasets\n",
    "train_dataset, val_dataset, test_dataset = model_helper.prepare_datasets(\n",
    "    train_sequences=train_sequences,\n",
    "    train_labels=train_labels,\n",
    "    val_sequences=val_sequences,\n",
    "    val_labels=val_labels,\n",
    "    test_sequences=test_sequences,\n",
    "    test_labels=test_labels,\n",
    "    batch_size=32\n",
    ")"
   ]
  },
  {
   "cell_type": "code",
   "execution_count": 14,
   "id": "bf108f02",
   "metadata": {},
   "outputs": [
    {
     "data": {
      "text/plain": [
       "Reusing TensorBoard on port 6006 (pid 16988), started 1 day, 0:13:49 ago. (Use '!kill 16988' to kill it.)"
      ]
     },
     "metadata": {},
     "output_type": "display_data"
    },
    {
     "data": {
      "text/html": [
       "\n",
       "      <iframe id=\"tensorboard-frame-b1d9d77f86a1a05f\" width=\"100%\" height=\"800\" frameborder=\"0\">\n",
       "      </iframe>\n",
       "      <script>\n",
       "        (function() {\n",
       "          const frame = document.getElementById(\"tensorboard-frame-b1d9d77f86a1a05f\");\n",
       "          const url = new URL(\"http://localhost\");\n",
       "          const port = 6006;\n",
       "          if (port) {\n",
       "            url.port = port;\n",
       "          }\n",
       "          frame.src = url;\n",
       "        })();\n",
       "      </script>\n",
       "    "
      ],
      "text/plain": [
       "<IPython.core.display.HTML object>"
      ]
     },
     "metadata": {},
     "output_type": "display_data"
    },
    {
     "name": "stdout",
     "output_type": "stream",
     "text": [
      "Epoch 1/15\n",
      "\u001b[1m321/321\u001b[0m \u001b[32m━━━━━━━━━━━━━━━━━━━━\u001b[0m\u001b[37m\u001b[0m \u001b[1m86s\u001b[0m 224ms/step - accuracy: 0.2722 - categorical_accuracy: 0.2722 - loss: 2.3264 - precision: 0.7464 - recall: 0.1325 - val_accuracy: 0.3606 - val_categorical_accuracy: 0.3606 - val_loss: 1.7730 - val_precision: 0.0000e+00 - val_recall: 0.0000e+00 - learning_rate: 0.0010\n",
      "Epoch 2/15\n",
      "\u001b[1m321/321\u001b[0m \u001b[32m━━━━━━━━━━━━━━━━━━━━\u001b[0m\u001b[37m\u001b[0m \u001b[1m68s\u001b[0m 210ms/step - accuracy: 0.2818 - categorical_accuracy: 0.2818 - loss: 1.7756 - precision: 0.7407 - recall: 0.0140 - val_accuracy: 0.3715 - val_categorical_accuracy: 0.3715 - val_loss: 1.6670 - val_precision: 0.0000e+00 - val_recall: 0.0000e+00 - learning_rate: 0.0010\n",
      "Epoch 3/15\n",
      "\u001b[1m321/321\u001b[0m \u001b[32m━━━━━━━━━━━━━━━━━━━━\u001b[0m\u001b[37m\u001b[0m \u001b[1m74s\u001b[0m 229ms/step - accuracy: 0.3226 - categorical_accuracy: 0.3226 - loss: 1.6534 - precision: 0.7805 - recall: 3.0109e-04 - val_accuracy: 0.3715 - val_categorical_accuracy: 0.3715 - val_loss: 1.6101 - val_precision: 0.0000e+00 - val_recall: 0.0000e+00 - learning_rate: 0.0010\n",
      "Epoch 4/15\n",
      "\u001b[1m321/321\u001b[0m \u001b[32m━━━━━━━━━━━━━━━━━━━━\u001b[0m\u001b[37m\u001b[0m \u001b[1m72s\u001b[0m 224ms/step - accuracy: 0.3470 - categorical_accuracy: 0.3470 - loss: 1.5901 - precision: 0.0000e+00 - recall: 0.0000e+00 - val_accuracy: 0.2181 - val_categorical_accuracy: 0.2181 - val_loss: 1.6250 - val_precision: 0.0000e+00 - val_recall: 0.0000e+00 - learning_rate: 0.0010\n",
      "Epoch 5/15\n",
      "\u001b[1m321/321\u001b[0m \u001b[32m━━━━━━━━━━━━━━━━━━━━\u001b[0m\u001b[37m\u001b[0m \u001b[1m80s\u001b[0m 248ms/step - accuracy: 0.3609 - categorical_accuracy: 0.3609 - loss: 1.6053 - precision: 0.6142 - recall: 2.1796e-04 - val_accuracy: 0.3731 - val_categorical_accuracy: 0.3731 - val_loss: 1.6612 - val_precision: 0.5000 - val_recall: 2.5947e-04 - learning_rate: 0.0010\n",
      "Epoch 6/15\n",
      "\u001b[1m321/321\u001b[0m \u001b[32m━━━━━━━━━━━━━━━━━━━━\u001b[0m\u001b[37m\u001b[0m \u001b[1m90s\u001b[0m 279ms/step - accuracy: 0.3652 - categorical_accuracy: 0.3652 - loss: 1.6859 - precision: 0.4186 - recall: 4.7101e-04 - val_accuracy: 0.3660 - val_categorical_accuracy: 0.3660 - val_loss: 1.8024 - val_precision: 0.0000e+00 - val_recall: 0.0000e+00 - learning_rate: 0.0010\n",
      "Epoch 7/15\n",
      "\u001b[1m321/321\u001b[0m \u001b[32m━━━━━━━━━━━━━━━━━━━━\u001b[0m\u001b[37m\u001b[0m \u001b[1m74s\u001b[0m 232ms/step - accuracy: 0.3729 - categorical_accuracy: 0.3729 - loss: 1.7848 - precision: 0.5470 - recall: 5.3184e-04 - val_accuracy: 0.3715 - val_categorical_accuracy: 0.3715 - val_loss: 1.7637 - val_precision: 0.0000e+00 - val_recall: 0.0000e+00 - learning_rate: 2.0000e-04\n",
      "Epoch 8/15\n",
      "\u001b[1m321/321\u001b[0m \u001b[32m━━━━━━━━━━━━━━━━━━━━\u001b[0m\u001b[37m\u001b[0m \u001b[1m79s\u001b[0m 245ms/step - accuracy: 0.3736 - categorical_accuracy: 0.3736 - loss: 1.7455 - precision: 0.5703 - recall: 9.3532e-04 - val_accuracy: 0.3450 - val_categorical_accuracy: 0.3450 - val_loss: 1.7372 - val_precision: 0.0000e+00 - val_recall: 0.0000e+00 - learning_rate: 2.0000e-04\n"
     ]
    }
   ],
   "source": [
    "%load_ext tensorboard\n",
    "%tensorboard --logdir models/logs/fit\n",
    "\n",
    "# Train the model using ModelHelper's train_model method\n",
    "history = model_helper.train_model(\n",
    "    model=model,\n",
    "    train_data=train_dataset,\n",
    "    validation_data=val_dataset,\n",
    "    epochs=15,\n",
    "    batch_size=32\n",
    ")"
   ]
  },
  {
   "cell_type": "code",
   "execution_count": 15,
   "id": "87b5400d",
   "metadata": {},
   "outputs": [
    {
     "name": "stdout",
     "output_type": "stream",
     "text": [
      "\u001b[1m41/41\u001b[0m \u001b[32m━━━━━━━━━━━━━━━━━━━━\u001b[0m\u001b[37m\u001b[0m \u001b[1m3s\u001b[0m 84ms/step - accuracy: 0.4035 - categorical_accuracy: 0.4035 - loss: 1.6012 - precision: 0.0000e+00 - recall: 0.0000e+00\n",
      "[1.606080174446106, 0.3811379671096802, 0.3811379671096802, 0.0, 0.0]\n"
     ]
    }
   ],
   "source": [
    "# Evaluate on test set\n",
    "test_metrics = model.evaluate(test_dataset)\n",
    "print(test_metrics)"
   ]
  },
  {
   "cell_type": "code",
   "execution_count": 16,
   "id": "31c615cb",
   "metadata": {},
   "outputs": [
    {
     "name": "stderr",
     "output_type": "stream",
     "text": [
      "WARNING:absl:The `save_format` argument is deprecated in Keras 3. We recommend removing this argument as it can be inferred from the file path. Received: save_format=tf\n",
      "c:\\Users\\jason\\anaconda3\\envs\\dev\\lib\\site-packages\\keras\\src\\saving\\saving_api.py:107: UserWarning: You are saving a model that has not yet been built. It might not contain any weights yet. Consider building the model first by calling it on some data.\n",
      "  return saving_lib.save_model(model, filepath)\n"
     ]
    },
    {
     "data": {
      "text/plain": [
       "True"
      ]
     },
     "execution_count": 16,
     "metadata": {},
     "output_type": "execute_result"
    }
   ],
   "source": [
    "# Save the model\n",
    "model_helper.save_model(model, \"text_classification_model_final\")"
   ]
  },
  {
   "cell_type": "code",
   "execution_count": 17,
   "id": "fd60098c",
   "metadata": {},
   "outputs": [
    {
     "name": "stdout",
     "output_type": "stream",
     "text": [
      "tf.Tensor(\n",
      "[[1.940e+03 3.843e+03 2.100e+01 2.000e+00 5.150e+02 2.600e+01 6.000e+00\n",
      "  3.372e+03 1.608e+03 2.150e+02 7.300e+01 5.000e+00 2.100e+02 6.900e+01\n",
      "  1.330e+02 7.000e+01 2.260e+02 3.360e+02 6.900e+01 8.000e+01 1.500e+01\n",
      "  1.670e+03 6.000e+00 1.500e+01 4.420e+02 2.800e+01 1.620e+02 2.909e+03\n",
      "  1.618e+03 8.130e+02 1.934e+03 2.666e+03 5.523e+03 2.204e+03 2.022e+03\n",
      "  2.891e+03 1.000e+00 2.150e+02 2.126e+03 1.690e+02 6.500e+01 6.610e+03\n",
      "  4.000e+00 1.000e+00 8.200e+01 2.150e+02 2.062e+03 5.400e+01 3.380e+02\n",
      "  6.200e+01 1.010e+02 1.190e+02 1.940e+03 3.843e+03 2.100e+01 2.000e+00\n",
      "  5.150e+02 4.990e+02 5.400e+01 3.380e+02]], shape=(1, 60), dtype=float32)\n",
      "\u001b[1m1/1\u001b[0m \u001b[32m━━━━━━━━━━━━━━━━━━━━\u001b[0m\u001b[37m\u001b[0m \u001b[1m1s\u001b[0m 1s/step\n",
      "[[0.14650518 0.32170746 0.38443905 0.14734828]]\n"
     ]
    }
   ],
   "source": [
    "# Load the saved model\n",
    "loaded_model = model_helper.load_model(\"text_classification_model_final\")\n",
    "test_string = 'Barbara Buono by the numbers: As a Trenton politician, she voted to raise taxes 154 times. Under her, property taxes up 70 percent. Backed a 16 percent sales tax increase. Utilities, nursing homes, cell phones, parking lots, lottery wins, gyms She taxed them all. Architect of Corzines budget, she drove New Jersey $2 billion into debt. Barbara Buono by the numbers: taking New Jersey backwards.'\n",
    "print(model_helper.preprocess_text(test_string))\n",
    "prediction = loaded_model.predict(model_helper.preprocess_text(test_string))\n",
    "print(prediction)"
   ]
  },
  {
   "cell_type": "code",
   "execution_count": 18,
   "id": "f863c30d",
   "metadata": {},
   "outputs": [
    {
     "name": "stdout",
     "output_type": "stream",
     "text": [
      "<_PrefetchDataset element_spec=(TensorSpec(shape=(None, 60), dtype=tf.float32, name=None), TensorSpec(shape=(None, 4), dtype=tf.float32, name=None))>\n",
      "\u001b[1m41/41\u001b[0m \u001b[32m━━━━━━━━━━━━━━━━━━━━\u001b[0m\u001b[37m\u001b[0m \u001b[1m5s\u001b[0m 89ms/step\n",
      "\n",
      "Sample predictions:\n",
      "Example 1:\n",
      "Predicted probabilities: [0.20947789 0.28564155 0.23809823 0.26678234]\n",
      "Predicted class: 1\n",
      "Actual class: 1\n",
      "\n",
      "Example 2:\n",
      "Predicted probabilities: [0.20999901 0.28560132 0.23646067 0.26793894]\n",
      "Predicted class: 1\n",
      "Actual class: 0\n",
      "\n",
      "Example 3:\n",
      "Predicted probabilities: [0.20607673 0.28802934 0.23987444 0.26601946]\n",
      "Predicted class: 1\n",
      "Actual class: 1\n",
      "\n",
      "Example 4:\n",
      "Predicted probabilities: [0.21001558 0.2849816  0.23839214 0.26661062]\n",
      "Predicted class: 1\n",
      "Actual class: 2\n",
      "\n",
      "Example 5:\n",
      "Predicted probabilities: [0.20926256 0.28350508 0.23437063 0.2728617 ]\n",
      "Predicted class: 1\n",
      "Actual class: 1\n",
      "\n"
     ]
    }
   ],
   "source": [
    "# Make predictions on test dataset\n",
    "print(test_dataset)\n",
    "predictions = loaded_model.predict(test_dataset)\n",
    "# Convert predictions to class labels\n",
    "predicted_classes = np.argmax(predictions, axis=1)\n",
    "\n",
    "# Print sample predictions\n",
    "print(\"\\nSample predictions:\")\n",
    "for i in range(5):\n",
    "    print(f\"Example {i+1}:\")\n",
    "    print(f\"Predicted probabilities: {predictions[i]}\")\n",
    "    print(f\"Predicted class: {predicted_classes[i]}\")\n",
    "    print(f\"Actual class: {np.argmax(test_labels[i])}\\n\")\n"
   ]
  },
  {
   "cell_type": "code",
   "execution_count": 19,
   "id": "0d7dad74",
   "metadata": {},
   "outputs": [
    {
     "name": "stdout",
     "output_type": "stream",
     "text": [
      "['text_classification_model', 'text_classification_model_final', 'text_classification_model_fourcol', 'text_classification_model_fourcol_b', 'text_classification_model_threecol', 'text_classification_model_threecolB']\n"
     ]
    }
   ],
   "source": [
    "models_list = model_helper.list_models()\n",
    "print(models_list)"
   ]
  }
 ],
 "metadata": {
  "kernelspec": {
   "display_name": "dev",
   "language": "python",
   "name": "python3"
  },
  "language_info": {
   "codemirror_mode": {
    "name": "ipython",
    "version": 3
   },
   "file_extension": ".py",
   "mimetype": "text/x-python",
   "name": "python",
   "nbconvert_exporter": "python",
   "pygments_lexer": "ipython3",
   "version": "3.10.15"
  }
 },
 "nbformat": 4,
 "nbformat_minor": 5
}
